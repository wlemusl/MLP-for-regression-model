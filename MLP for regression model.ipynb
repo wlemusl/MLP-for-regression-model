{
 "cells": [
  {
   "cell_type": "markdown",
   "metadata": {},
   "source": [
    "## Import all the requiered libraries"
   ]
  },
  {
   "cell_type": "code",
   "execution_count": 1,
   "metadata": {},
   "outputs": [],
   "source": [
    "import pandas as pd\n",
    "import numpy as np\n",
    "import matplotlib.pyplot as plt\n",
    "from sklearn.model_selection import train_test_split\n",
    "import sklearn\n",
    "import seaborn as sns\n",
    "\n",
    "import torch\n",
    "from torch.autograd import Variable\n",
    "import torch.utils.data as Data\n",
    "import torch.nn as nn"
   ]
  },
  {
   "cell_type": "markdown",
   "metadata": {},
   "source": [
    "## Explore and prepare the dataset"
   ]
  },
  {
   "cell_type": "code",
   "execution_count": 2,
   "metadata": {},
   "outputs": [],
   "source": [
    "df = pd.read_csv(\"autos mpg.csv\")"
   ]
  },
  {
   "cell_type": "code",
   "execution_count": 3,
   "metadata": {
    "scrolled": true
   },
   "outputs": [
    {
     "name": "stdout",
     "output_type": "stream",
     "text": [
      "<class 'pandas.core.frame.DataFrame'>\n",
      "RangeIndex: 398 entries, 0 to 397\n",
      "Data columns (total 9 columns):\n",
      " #   Column        Non-Null Count  Dtype  \n",
      "---  ------        --------------  -----  \n",
      " 0   MPG           398 non-null    float64\n",
      " 1   CYLINDERS     398 non-null    int64  \n",
      " 2   DISPLACEMENT  398 non-null    float64\n",
      " 3   HP            398 non-null    object \n",
      " 4   WEIGHT        398 non-null    int64  \n",
      " 5   ACCELERATION  398 non-null    float64\n",
      " 6   YEAR          398 non-null    int64  \n",
      " 7   ORIGIN        398 non-null    int64  \n",
      " 8   NAME          398 non-null    object \n",
      "dtypes: float64(3), int64(4), object(2)\n",
      "memory usage: 28.1+ KB\n"
     ]
    }
   ],
   "source": [
    "df.info()"
   ]
  },
  {
   "cell_type": "code",
   "execution_count": 4,
   "metadata": {
    "scrolled": true
   },
   "outputs": [
    {
     "data": {
      "text/html": [
       "<div>\n",
       "<style scoped>\n",
       "    .dataframe tbody tr th:only-of-type {\n",
       "        vertical-align: middle;\n",
       "    }\n",
       "\n",
       "    .dataframe tbody tr th {\n",
       "        vertical-align: top;\n",
       "    }\n",
       "\n",
       "    .dataframe thead th {\n",
       "        text-align: right;\n",
       "    }\n",
       "</style>\n",
       "<table border=\"1\" class=\"dataframe\">\n",
       "  <thead>\n",
       "    <tr style=\"text-align: right;\">\n",
       "      <th></th>\n",
       "      <th>MPG</th>\n",
       "      <th>CYLINDERS</th>\n",
       "      <th>DISPLACEMENT</th>\n",
       "      <th>HP</th>\n",
       "      <th>WEIGHT</th>\n",
       "      <th>ACCELERATION</th>\n",
       "      <th>YEAR</th>\n",
       "      <th>ORIGIN</th>\n",
       "      <th>NAME</th>\n",
       "    </tr>\n",
       "  </thead>\n",
       "  <tbody>\n",
       "    <tr>\n",
       "      <th>0</th>\n",
       "      <td>18.0</td>\n",
       "      <td>8</td>\n",
       "      <td>307.0</td>\n",
       "      <td>130</td>\n",
       "      <td>3504</td>\n",
       "      <td>12.0</td>\n",
       "      <td>70</td>\n",
       "      <td>1</td>\n",
       "      <td>chevrolet chevelle malibu</td>\n",
       "    </tr>\n",
       "    <tr>\n",
       "      <th>1</th>\n",
       "      <td>15.0</td>\n",
       "      <td>8</td>\n",
       "      <td>350.0</td>\n",
       "      <td>165</td>\n",
       "      <td>3693</td>\n",
       "      <td>11.5</td>\n",
       "      <td>70</td>\n",
       "      <td>1</td>\n",
       "      <td>buick skylark 320</td>\n",
       "    </tr>\n",
       "    <tr>\n",
       "      <th>2</th>\n",
       "      <td>18.0</td>\n",
       "      <td>8</td>\n",
       "      <td>318.0</td>\n",
       "      <td>150</td>\n",
       "      <td>3436</td>\n",
       "      <td>11.0</td>\n",
       "      <td>70</td>\n",
       "      <td>1</td>\n",
       "      <td>plymouth satellite</td>\n",
       "    </tr>\n",
       "    <tr>\n",
       "      <th>3</th>\n",
       "      <td>16.0</td>\n",
       "      <td>8</td>\n",
       "      <td>304.0</td>\n",
       "      <td>150</td>\n",
       "      <td>3433</td>\n",
       "      <td>12.0</td>\n",
       "      <td>70</td>\n",
       "      <td>1</td>\n",
       "      <td>amc rebel sst</td>\n",
       "    </tr>\n",
       "    <tr>\n",
       "      <th>4</th>\n",
       "      <td>17.0</td>\n",
       "      <td>8</td>\n",
       "      <td>302.0</td>\n",
       "      <td>140</td>\n",
       "      <td>3449</td>\n",
       "      <td>10.5</td>\n",
       "      <td>70</td>\n",
       "      <td>1</td>\n",
       "      <td>ford torino</td>\n",
       "    </tr>\n",
       "  </tbody>\n",
       "</table>\n",
       "</div>"
      ],
      "text/plain": [
       "    MPG  CYLINDERS  DISPLACEMENT   HP  WEIGHT  ACCELERATION  YEAR  ORIGIN  \\\n",
       "0  18.0          8         307.0  130    3504          12.0    70       1   \n",
       "1  15.0          8         350.0  165    3693          11.5    70       1   \n",
       "2  18.0          8         318.0  150    3436          11.0    70       1   \n",
       "3  16.0          8         304.0  150    3433          12.0    70       1   \n",
       "4  17.0          8         302.0  140    3449          10.5    70       1   \n",
       "\n",
       "                        NAME  \n",
       "0  chevrolet chevelle malibu  \n",
       "1          buick skylark 320  \n",
       "2         plymouth satellite  \n",
       "3              amc rebel sst  \n",
       "4                ford torino  "
      ]
     },
     "execution_count": 4,
     "metadata": {},
     "output_type": "execute_result"
    }
   ],
   "source": [
    "df.head(5)"
   ]
  },
  {
   "cell_type": "code",
   "execution_count": 5,
   "metadata": {},
   "outputs": [
    {
     "data": {
      "text/plain": [
       "str"
      ]
     },
     "execution_count": 5,
     "metadata": {},
     "output_type": "execute_result"
    }
   ],
   "source": [
    "type(df['HP'][0])"
   ]
  },
  {
   "cell_type": "markdown",
   "metadata": {},
   "source": [
    "**The HP column is in a string str format so we will be requiered to convert it into a numeric int or float format.**"
   ]
  },
  {
   "cell_type": "code",
   "execution_count": 6,
   "metadata": {},
   "outputs": [],
   "source": [
    "df['HP'] = pd.to_numeric(df['HP'], errors = 'coerce')"
   ]
  },
  {
   "cell_type": "code",
   "execution_count": 7,
   "metadata": {
    "scrolled": true
   },
   "outputs": [
    {
     "name": "stdout",
     "output_type": "stream",
     "text": [
      "<class 'pandas.core.frame.DataFrame'>\n",
      "RangeIndex: 398 entries, 0 to 397\n",
      "Data columns (total 9 columns):\n",
      " #   Column        Non-Null Count  Dtype  \n",
      "---  ------        --------------  -----  \n",
      " 0   MPG           398 non-null    float64\n",
      " 1   CYLINDERS     398 non-null    int64  \n",
      " 2   DISPLACEMENT  398 non-null    float64\n",
      " 3   HP            392 non-null    float64\n",
      " 4   WEIGHT        398 non-null    int64  \n",
      " 5   ACCELERATION  398 non-null    float64\n",
      " 6   YEAR          398 non-null    int64  \n",
      " 7   ORIGIN        398 non-null    int64  \n",
      " 8   NAME          398 non-null    object \n",
      "dtypes: float64(4), int64(4), object(1)\n",
      "memory usage: 28.1+ KB\n"
     ]
    }
   ],
   "source": [
    "df.info()"
   ]
  },
  {
   "cell_type": "markdown",
   "metadata": {},
   "source": [
    "**The HP column has 6 blank cells and therefore it is worth it to skip the rows where these empty spaces are. The other columns are completed and do not have null values.**"
   ]
  },
  {
   "cell_type": "code",
   "execution_count": 8,
   "metadata": {
    "scrolled": false
   },
   "outputs": [],
   "source": [
    "df = df.dropna(axis = 0, how = \"any\")"
   ]
  },
  {
   "cell_type": "code",
   "execution_count": 9,
   "metadata": {},
   "outputs": [
    {
     "name": "stdout",
     "output_type": "stream",
     "text": [
      "<class 'pandas.core.frame.DataFrame'>\n",
      "Int64Index: 392 entries, 0 to 397\n",
      "Data columns (total 9 columns):\n",
      " #   Column        Non-Null Count  Dtype  \n",
      "---  ------        --------------  -----  \n",
      " 0   MPG           392 non-null    float64\n",
      " 1   CYLINDERS     392 non-null    int64  \n",
      " 2   DISPLACEMENT  392 non-null    float64\n",
      " 3   HP            392 non-null    float64\n",
      " 4   WEIGHT        392 non-null    int64  \n",
      " 5   ACCELERATION  392 non-null    float64\n",
      " 6   YEAR          392 non-null    int64  \n",
      " 7   ORIGIN        392 non-null    int64  \n",
      " 8   NAME          392 non-null    object \n",
      "dtypes: float64(4), int64(4), object(1)\n",
      "memory usage: 30.6+ KB\n"
     ]
    }
   ],
   "source": [
    "df.info()"
   ]
  },
  {
   "cell_type": "markdown",
   "metadata": {},
   "source": [
    "**MPG is our target value, label, or the number that we want to predict with our neural network. And NAME column contains the names of every car in a string format. As a result, we will separate the MPG column into another df and we will explore the Name column to see how many unique values there are and if it can be used as a feature.**"
   ]
  },
  {
   "cell_type": "code",
   "execution_count": 10,
   "metadata": {
    "scrolled": true
   },
   "outputs": [
    {
     "data": {
      "text/plain": [
       "0    18.0\n",
       "1    15.0\n",
       "2    18.0\n",
       "3    16.0\n",
       "4    17.0\n",
       "Name: MPG, dtype: float64"
      ]
     },
     "execution_count": 10,
     "metadata": {},
     "output_type": "execute_result"
    }
   ],
   "source": [
    "y = df['MPG']\n",
    "y.head(5)"
   ]
  },
  {
   "cell_type": "code",
   "execution_count": 11,
   "metadata": {},
   "outputs": [],
   "source": [
    "mpg_min = y.min()\n",
    "mpg_max = y.max()\n",
    "mpg_avg = y.mean()\n",
    "mpg_std = y.std()"
   ]
  },
  {
   "cell_type": "code",
   "execution_count": 12,
   "metadata": {},
   "outputs": [
    {
     "data": {
      "text/html": [
       "<div>\n",
       "<style scoped>\n",
       "    .dataframe tbody tr th:only-of-type {\n",
       "        vertical-align: middle;\n",
       "    }\n",
       "\n",
       "    .dataframe tbody tr th {\n",
       "        vertical-align: top;\n",
       "    }\n",
       "\n",
       "    .dataframe thead th {\n",
       "        text-align: right;\n",
       "    }\n",
       "</style>\n",
       "<table border=\"1\" class=\"dataframe\">\n",
       "  <thead>\n",
       "    <tr style=\"text-align: right;\">\n",
       "      <th></th>\n",
       "      <th>Statistics of MPG</th>\n",
       "    </tr>\n",
       "  </thead>\n",
       "  <tbody>\n",
       "    <tr>\n",
       "      <th>Min</th>\n",
       "      <td>9.000000</td>\n",
       "    </tr>\n",
       "    <tr>\n",
       "      <th>Max</th>\n",
       "      <td>46.600000</td>\n",
       "    </tr>\n",
       "    <tr>\n",
       "      <th>Avg</th>\n",
       "      <td>23.445918</td>\n",
       "    </tr>\n",
       "    <tr>\n",
       "      <th>Std</th>\n",
       "      <td>7.805007</td>\n",
       "    </tr>\n",
       "  </tbody>\n",
       "</table>\n",
       "</div>"
      ],
      "text/plain": [
       "     Statistics of MPG\n",
       "Min           9.000000\n",
       "Max          46.600000\n",
       "Avg          23.445918\n",
       "Std           7.805007"
      ]
     },
     "execution_count": 12,
     "metadata": {},
     "output_type": "execute_result"
    }
   ],
   "source": [
    "summary = {'Statistics of MPG': [mpg_min, mpg_max, mpg_avg, mpg_std]}\n",
    "stat_mpg = pd.DataFrame(data=summary, index=['Min', 'Max','Avg','Std'])\n",
    "stat_mpg"
   ]
  },
  {
   "cell_type": "code",
   "execution_count": 13,
   "metadata": {},
   "outputs": [
    {
     "data": {
      "text/plain": [
       "<AxesSubplot:>"
      ]
     },
     "execution_count": 13,
     "metadata": {},
     "output_type": "execute_result"
    },
    {
     "data": {
      "image/png": "[encoded data removed]",
      "text/plain": [
       "<Figure size 432x288 with 1 Axes>"
      ]
     },
     "metadata": {
      "needs_background": "light"
     },
     "output_type": "display_data"
    }
   ],
   "source": [
    "stat_mpg.plot(kind='bar', color='goldenrod')"
   ]
  },
  {
   "cell_type": "code",
   "execution_count": 14,
   "metadata": {},
   "outputs": [
    {
     "name": "stdout",
     "output_type": "stream",
     "text": [
      "15.640910880775138  -  23.445918367346938  +  31.250925853918737\n"
     ]
    }
   ],
   "source": [
    "print(mpg_avg-mpg_std, ' - ', mpg_avg, ' + ', mpg_avg+mpg_std)"
   ]
  },
  {
   "cell_type": "markdown",
   "metadata": {},
   "source": [
    "**This is important information to take into consideration because Miles per Gallon is our target value. The average MPG of all the dataset's car is 23.45 with a standard deviation of 7.81. Practically, it can be said that it is normal that a car performs from 15.64 to 31.25 miles per gallon. Data points outside this range can be considered outliers.**"
   ]
  },
  {
   "cell_type": "code",
   "execution_count": 15,
   "metadata": {},
   "outputs": [
    {
     "data": {
      "text/plain": [
       "amc matador             5\n",
       "ford pinto              5\n",
       "toyota corolla          5\n",
       "amc gremlin             4\n",
       "ford maverick           4\n",
       "                       ..\n",
       "mercedes-benz 240d      1\n",
       "mercedes benz 300d      1\n",
       "buick lesabre custom    1\n",
       "mazda rx-4              1\n",
       "nissan stanza xe        1\n",
       "Name: NAME, Length: 301, dtype: int64"
      ]
     },
     "execution_count": 15,
     "metadata": {},
     "output_type": "execute_result"
    }
   ],
   "source": [
    "df['NAME'].value_counts()"
   ]
  },
  {
   "cell_type": "code",
   "execution_count": 16,
   "metadata": {},
   "outputs": [],
   "source": [
    "df = df.drop('NAME', axis = 1)"
   ]
  },
  {
   "cell_type": "markdown",
   "metadata": {},
   "source": [
    "**There are 301 unique categoric values in the NAME column, which represents the 77% of the 392 records. Therefore, it is decided to skip it and not use it as a feature to train our neural network. Lets see the correlation of the other variables and the MPG column so we can select the best features!**"
   ]
  },
  {
   "cell_type": "code",
   "execution_count": 17,
   "metadata": {
    "scrolled": true
   },
   "outputs": [
    {
     "data": {
      "text/plain": [
       "<AxesSubplot:>"
      ]
     },
     "execution_count": 17,
     "metadata": {},
     "output_type": "execute_result"
    },
    {
     "data": {
      "image/png": "[encoded data removed]",
      "text/plain": [
       "<Figure size 432x288 with 2 Axes>"
      ]
     },
     "metadata": {
      "needs_background": "light"
     },
     "output_type": "display_data"
    }
   ],
   "source": [
    "sns.heatmap(df.corr(), annot = True, cmap = 'coolwarm')"
   ]
  },
  {
   "cell_type": "markdown",
   "metadata": {},
   "source": [
    "**We can perceive that each of the seven features: cylinders, displacement, HP, weight, acceleration, year, and origin, has a high level of correlation with MPG variable. As a result, we will use these seven features to train our model.** "
   ]
  },
  {
   "cell_type": "code",
   "execution_count": 18,
   "metadata": {},
   "outputs": [],
   "source": [
    "df = df.drop('MPG', axis = 1)"
   ]
  },
  {
   "cell_type": "markdown",
   "metadata": {},
   "source": [
    "**Lets use Min Max Normalization to normalize all the seven features, transforming their values into a scale between 0 and 1.**"
   ]
  },
  {
   "cell_type": "code",
   "execution_count": 19,
   "metadata": {},
   "outputs": [],
   "source": [
    "def normalize(dataset):\n",
    "    data_normalized = ((dataset-dataset.min())/(dataset.max()-dataset.min()))\n",
    "    return data_normalized"
   ]
  },
  {
   "cell_type": "code",
   "execution_count": 20,
   "metadata": {},
   "outputs": [
    {
     "data": {
      "text/html": [
       "<div>\n",
       "<style scoped>\n",
       "    .dataframe tbody tr th:only-of-type {\n",
       "        vertical-align: middle;\n",
       "    }\n",
       "\n",
       "    .dataframe tbody tr th {\n",
       "        vertical-align: top;\n",
       "    }\n",
       "\n",
       "    .dataframe thead th {\n",
       "        text-align: right;\n",
       "    }\n",
       "</style>\n",
       "<table border=\"1\" class=\"dataframe\">\n",
       "  <thead>\n",
       "    <tr style=\"text-align: right;\">\n",
       "      <th></th>\n",
       "      <th>CYLINDERS</th>\n",
       "      <th>DISPLACEMENT</th>\n",
       "      <th>HP</th>\n",
       "      <th>WEIGHT</th>\n",
       "      <th>ACCELERATION</th>\n",
       "      <th>YEAR</th>\n",
       "      <th>ORIGIN</th>\n",
       "    </tr>\n",
       "  </thead>\n",
       "  <tbody>\n",
       "    <tr>\n",
       "      <th>0</th>\n",
       "      <td>1.0</td>\n",
       "      <td>0.617571</td>\n",
       "      <td>0.456522</td>\n",
       "      <td>0.536150</td>\n",
       "      <td>0.238095</td>\n",
       "      <td>0.0</td>\n",
       "      <td>0.0</td>\n",
       "    </tr>\n",
       "    <tr>\n",
       "      <th>1</th>\n",
       "      <td>1.0</td>\n",
       "      <td>0.728682</td>\n",
       "      <td>0.646739</td>\n",
       "      <td>0.589736</td>\n",
       "      <td>0.208333</td>\n",
       "      <td>0.0</td>\n",
       "      <td>0.0</td>\n",
       "    </tr>\n",
       "    <tr>\n",
       "      <th>2</th>\n",
       "      <td>1.0</td>\n",
       "      <td>0.645995</td>\n",
       "      <td>0.565217</td>\n",
       "      <td>0.516870</td>\n",
       "      <td>0.178571</td>\n",
       "      <td>0.0</td>\n",
       "      <td>0.0</td>\n",
       "    </tr>\n",
       "    <tr>\n",
       "      <th>3</th>\n",
       "      <td>1.0</td>\n",
       "      <td>0.609819</td>\n",
       "      <td>0.565217</td>\n",
       "      <td>0.516019</td>\n",
       "      <td>0.238095</td>\n",
       "      <td>0.0</td>\n",
       "      <td>0.0</td>\n",
       "    </tr>\n",
       "    <tr>\n",
       "      <th>4</th>\n",
       "      <td>1.0</td>\n",
       "      <td>0.604651</td>\n",
       "      <td>0.510870</td>\n",
       "      <td>0.520556</td>\n",
       "      <td>0.148810</td>\n",
       "      <td>0.0</td>\n",
       "      <td>0.0</td>\n",
       "    </tr>\n",
       "    <tr>\n",
       "      <th>...</th>\n",
       "      <td>...</td>\n",
       "      <td>...</td>\n",
       "      <td>...</td>\n",
       "      <td>...</td>\n",
       "      <td>...</td>\n",
       "      <td>...</td>\n",
       "      <td>...</td>\n",
       "    </tr>\n",
       "    <tr>\n",
       "      <th>393</th>\n",
       "      <td>0.2</td>\n",
       "      <td>0.186047</td>\n",
       "      <td>0.217391</td>\n",
       "      <td>0.333711</td>\n",
       "      <td>0.452381</td>\n",
       "      <td>1.0</td>\n",
       "      <td>0.0</td>\n",
       "    </tr>\n",
       "    <tr>\n",
       "      <th>394</th>\n",
       "      <td>0.2</td>\n",
       "      <td>0.074935</td>\n",
       "      <td>0.032609</td>\n",
       "      <td>0.146583</td>\n",
       "      <td>0.988095</td>\n",
       "      <td>1.0</td>\n",
       "      <td>0.5</td>\n",
       "    </tr>\n",
       "    <tr>\n",
       "      <th>395</th>\n",
       "      <td>0.2</td>\n",
       "      <td>0.173127</td>\n",
       "      <td>0.206522</td>\n",
       "      <td>0.193365</td>\n",
       "      <td>0.214286</td>\n",
       "      <td>1.0</td>\n",
       "      <td>0.0</td>\n",
       "    </tr>\n",
       "    <tr>\n",
       "      <th>396</th>\n",
       "      <td>0.2</td>\n",
       "      <td>0.134367</td>\n",
       "      <td>0.179348</td>\n",
       "      <td>0.286929</td>\n",
       "      <td>0.630952</td>\n",
       "      <td>1.0</td>\n",
       "      <td>0.0</td>\n",
       "    </tr>\n",
       "    <tr>\n",
       "      <th>397</th>\n",
       "      <td>0.2</td>\n",
       "      <td>0.131783</td>\n",
       "      <td>0.195652</td>\n",
       "      <td>0.313864</td>\n",
       "      <td>0.678571</td>\n",
       "      <td>1.0</td>\n",
       "      <td>0.0</td>\n",
       "    </tr>\n",
       "  </tbody>\n",
       "</table>\n",
       "<p>392 rows × 7 columns</p>\n",
       "</div>"
      ],
      "text/plain": [
       "     CYLINDERS  DISPLACEMENT        HP    WEIGHT  ACCELERATION  YEAR  ORIGIN\n",
       "0          1.0      0.617571  0.456522  0.536150      0.238095   0.0     0.0\n",
       "1          1.0      0.728682  0.646739  0.589736      0.208333   0.0     0.0\n",
       "2          1.0      0.645995  0.565217  0.516870      0.178571   0.0     0.0\n",
       "3          1.0      0.609819  0.565217  0.516019      0.238095   0.0     0.0\n",
       "4          1.0      0.604651  0.510870  0.520556      0.148810   0.0     0.0\n",
       "..         ...           ...       ...       ...           ...   ...     ...\n",
       "393        0.2      0.186047  0.217391  0.333711      0.452381   1.0     0.0\n",
       "394        0.2      0.074935  0.032609  0.146583      0.988095   1.0     0.5\n",
       "395        0.2      0.173127  0.206522  0.193365      0.214286   1.0     0.0\n",
       "396        0.2      0.134367  0.179348  0.286929      0.630952   1.0     0.0\n",
       "397        0.2      0.131783  0.195652  0.313864      0.678571   1.0     0.0\n",
       "\n",
       "[392 rows x 7 columns]"
      ]
     },
     "execution_count": 20,
     "metadata": {},
     "output_type": "execute_result"
    }
   ],
   "source": [
    "features = normalize(df)\n",
    "features"
   ]
  },
  {
   "cell_type": "markdown",
   "metadata": {},
   "source": [
    "## Pandas series to Numpy arrays"
   ]
  },
  {
   "cell_type": "code",
   "execution_count": 21,
   "metadata": {},
   "outputs": [
    {
     "data": {
      "text/plain": [
       "array([[1.        , 0.61757106, 0.45652174, 0.5361497 , 0.23809524,\n",
       "        0.        , 0.        ],\n",
       "       [1.        , 0.72868217, 0.64673913, 0.58973632, 0.20833333,\n",
       "        0.        , 0.        ],\n",
       "       [1.        , 0.64599483, 0.56521739, 0.51686986, 0.17857143,\n",
       "        0.        , 0.        ],\n",
       "       [1.        , 0.60981912, 0.56521739, 0.51601928, 0.23809524,\n",
       "        0.        , 0.        ],\n",
       "       [1.        , 0.60465116, 0.51086957, 0.52055571, 0.14880952,\n",
       "        0.        , 0.        ]])"
      ]
     },
     "execution_count": 21,
     "metadata": {},
     "output_type": "execute_result"
    }
   ],
   "source": [
    "numpy_X = features[['CYLINDERS','DISPLACEMENT', 'HP', 'WEIGHT', 'ACCELERATION', 'YEAR', 'ORIGIN']].to_numpy()\n",
    "numpy_X[:5]"
   ]
  },
  {
   "cell_type": "code",
   "execution_count": 22,
   "metadata": {},
   "outputs": [
    {
     "data": {
      "text/plain": [
       "array([18., 15., 18., 16., 17.])"
      ]
     },
     "execution_count": 22,
     "metadata": {},
     "output_type": "execute_result"
    }
   ],
   "source": [
    "numpy_y = y.to_numpy()\n",
    "numpy_y[:5]"
   ]
  },
  {
   "cell_type": "markdown",
   "metadata": {},
   "source": [
    "## Create a train (80%) and a test (20%) set "
   ]
  },
  {
   "cell_type": "code",
   "execution_count": 23,
   "metadata": {},
   "outputs": [],
   "source": [
    "train_X, test_X, train_y, test_y = train_test_split(numpy_X, numpy_y, test_size=0.20, random_state=0)"
   ]
  },
  {
   "cell_type": "markdown",
   "metadata": {},
   "source": [
    "## Numpy arrays to Pytorch tensors train"
   ]
  },
  {
   "cell_type": "code",
   "execution_count": 24,
   "metadata": {},
   "outputs": [
    {
     "name": "stdout",
     "output_type": "stream",
     "text": [
      "torch.Size([313, 7]) torch.Size([313])\n"
     ]
    }
   ],
   "source": [
    "# this is for the train set.\n",
    "tensor_X = torch.from_numpy(train_X).float() \n",
    "tensor_y = torch.from_numpy(train_y).float() \n",
    "print(tensor_X.shape, tensor_y.shape)"
   ]
  },
  {
   "cell_type": "code",
   "execution_count": 25,
   "metadata": {},
   "outputs": [
    {
     "name": "stdout",
     "output_type": "stream",
     "text": [
      "torch.Size([313, 7]) torch.Size([313, 1])\n"
     ]
    }
   ],
   "source": [
    "tensor_y = tensor_y.unsqueeze(1)\n",
    "print(tensor_X.shape, tensor_y.shape)"
   ]
  },
  {
   "cell_type": "code",
   "execution_count": 26,
   "metadata": {},
   "outputs": [],
   "source": [
    "torch_dataset = Data.TensorDataset(tensor_X, tensor_y)"
   ]
  },
  {
   "cell_type": "markdown",
   "metadata": {},
   "source": [
    "## Define a dataloader to load it in batches"
   ]
  },
  {
   "cell_type": "code",
   "execution_count": 27,
   "metadata": {},
   "outputs": [],
   "source": [
    "batch = 45 # we will have 8 iterations in each epoch. 313 data divided by 45 data \n",
    "           # per batch, is equal to 7 batches or iterations to complete one epoch."
   ]
  },
  {
   "cell_type": "code",
   "execution_count": 28,
   "metadata": {},
   "outputs": [],
   "source": [
    "loader = Data.DataLoader(\n",
    "    dataset = torch_dataset,      # torch TensorDataset format\n",
    "    batch_size = batch,           # mini batch size\n",
    "    shuffle=True,                 # random shuffle for training\n",
    "    num_workers=2,                # subprocesses for loading data\n",
    ")"
   ]
  },
  {
   "cell_type": "markdown",
   "metadata": {},
   "source": [
    "## Define a nn, optimizer, and loss function"
   ]
  },
  {
   "cell_type": "code",
   "execution_count": 29,
   "metadata": {},
   "outputs": [],
   "source": [
    "model = nn.Sequential(nn.Linear(7, 10), # first layer\n",
    "   nn.ReLU(),\n",
    "   nn.Linear(10, 10), # second layer\n",
    "   nn.ReLU(),\n",
    "   nn.Linear(10, 10), # third layer\n",
    "   nn.ReLU(),\n",
    "   nn.Linear(10, 1)   # fourth layer\n",
    "   )"
   ]
  },
  {
   "cell_type": "code",
   "execution_count": 30,
   "metadata": {},
   "outputs": [],
   "source": [
    "optimizer = torch.optim.Adam(model.parameters(), lr=0.005)\n",
    "loss_function = torch.nn.MSELoss()"
   ]
  },
  {
   "cell_type": "markdown",
   "metadata": {},
   "source": [
    "## Train our Artificial Neural Network"
   ]
  },
  {
   "cell_type": "code",
   "execution_count": 31,
   "metadata": {},
   "outputs": [
    {
     "name": "stdout",
     "output_type": "stream",
     "text": [
      "Epoch 1\n",
      "Batch:  1 , loss:  tensor(28.0374, grad_fn=<SqrtBackward>)\n",
      "Batch:  2 , loss:  tensor(25.8801, grad_fn=<SqrtBackward>)\n",
      "Batch:  3 , loss:  tensor(25.8305, grad_fn=<SqrtBackward>)\n",
      "Batch:  4 , loss:  tensor(23.7966, grad_fn=<SqrtBackward>)\n",
      "Batch:  5 , loss:  tensor(24.6145, grad_fn=<SqrtBackward>)\n",
      "Batch:  6 , loss:  tensor(22.9672, grad_fn=<SqrtBackward>)\n",
      "Batch:  7 , loss:  tensor(23.2274, grad_fn=<SqrtBackward>)\n",
      "Result of the last epoch's batch:  tensor(23.2274, grad_fn=<SqrtBackward>)\n",
      " \n",
      "Epoch 2\n",
      "Batch:  1 , loss:  tensor(24.9091, grad_fn=<SqrtBackward>)\n",
      "Batch:  2 , loss:  tensor(23.9273, grad_fn=<SqrtBackward>)\n",
      "Batch:  3 , loss:  tensor(25.5893, grad_fn=<SqrtBackward>)\n",
      "Batch:  4 , loss:  tensor(25.0459, grad_fn=<SqrtBackward>)\n",
      "Batch:  5 , loss:  tensor(24.2673, grad_fn=<SqrtBackward>)\n",
      "Batch:  6 , loss:  tensor(25.8787, grad_fn=<SqrtBackward>)\n",
      "Batch:  7 , loss:  tensor(23.9831, grad_fn=<SqrtBackward>)\n",
      "Result of the last epoch's batch:  tensor(23.9831, grad_fn=<SqrtBackward>)\n",
      " \n",
      "Epoch 3\n",
      "Batch:  1 , loss:  tensor(25.9642, grad_fn=<SqrtBackward>)\n",
      "Batch:  2 , loss:  tensor(24.1930, grad_fn=<SqrtBackward>)\n",
      "Batch:  3 , loss:  tensor(24.9091, grad_fn=<SqrtBackward>)\n",
      "Batch:  4 , loss:  tensor(24.3702, grad_fn=<SqrtBackward>)\n",
      "Batch:  5 , loss:  tensor(23.5968, grad_fn=<SqrtBackward>)\n",
      "Batch:  6 , loss:  tensor(24.1313, grad_fn=<SqrtBackward>)\n",
      "Batch:  7 , loss:  tensor(25.3277, grad_fn=<SqrtBackward>)\n",
      "Result of the last epoch's batch:  tensor(25.3277, grad_fn=<SqrtBackward>)\n",
      " \n",
      "Epoch 4\n",
      "Batch:  1 , loss:  tensor(25.5738, grad_fn=<SqrtBackward>)\n",
      "Batch:  2 , loss:  tensor(23.4025, grad_fn=<SqrtBackward>)\n",
      "Batch:  3 , loss:  tensor(24.9949, grad_fn=<SqrtBackward>)\n",
      "Batch:  4 , loss:  tensor(23.8159, grad_fn=<SqrtBackward>)\n",
      "Batch:  5 , loss:  tensor(23.6927, grad_fn=<SqrtBackward>)\n",
      "Batch:  6 , loss:  tensor(24.0180, grad_fn=<SqrtBackward>)\n",
      "Batch:  7 , loss:  tensor(25.3781, grad_fn=<SqrtBackward>)\n",
      "Result of the last epoch's batch:  tensor(25.3781, grad_fn=<SqrtBackward>)\n",
      " \n",
      "Epoch 5\n",
      "Batch:  1 , loss:  tensor(25.0498, grad_fn=<SqrtBackward>)\n",
      "Batch:  2 , loss:  tensor(25.4114, grad_fn=<SqrtBackward>)\n",
      "Batch:  3 , loss:  tensor(25.2454, grad_fn=<SqrtBackward>)\n",
      "Batch:  4 , loss:  tensor(24.6210, grad_fn=<SqrtBackward>)\n",
      "Batch:  5 , loss:  tensor(21.9648, grad_fn=<SqrtBackward>)\n",
      "Batch:  6 , loss:  tensor(22.8089, grad_fn=<SqrtBackward>)\n",
      "Batch:  7 , loss:  tensor(22.5634, grad_fn=<SqrtBackward>)\n",
      "Result of the last epoch's batch:  tensor(22.5634, grad_fn=<SqrtBackward>)\n",
      " \n",
      "Epoch 6\n",
      "Batch:  1 , loss:  tensor(23.2962, grad_fn=<SqrtBackward>)\n",
      "Batch:  2 , loss:  tensor(24.8448, grad_fn=<SqrtBackward>)\n",
      "Batch:  3 , loss:  tensor(22.2459, grad_fn=<SqrtBackward>)\n",
      "Batch:  4 , loss:  tensor(23.2469, grad_fn=<SqrtBackward>)\n",
      "Batch:  5 , loss:  tensor(22.3447, grad_fn=<SqrtBackward>)\n",
      "Batch:  6 , loss:  tensor(22.7035, grad_fn=<SqrtBackward>)\n",
      "Batch:  7 , loss:  tensor(23.6744, grad_fn=<SqrtBackward>)\n",
      "Result of the last epoch's batch:  tensor(23.6744, grad_fn=<SqrtBackward>)\n",
      " \n",
      "Epoch 7\n",
      "Batch:  1 , loss:  tensor(22.2135, grad_fn=<SqrtBackward>)\n",
      "Batch:  2 , loss:  tensor(22.8129, grad_fn=<SqrtBackward>)\n",
      "Batch:  3 , loss:  tensor(21.4603, grad_fn=<SqrtBackward>)\n",
      "Batch:  4 , loss:  tensor(20.9694, grad_fn=<SqrtBackward>)\n",
      "Batch:  5 , loss:  tensor(21.8443, grad_fn=<SqrtBackward>)\n",
      "Batch:  6 , loss:  tensor(22.3754, grad_fn=<SqrtBackward>)\n",
      "Batch:  7 , loss:  tensor(20.8826, grad_fn=<SqrtBackward>)\n",
      "Result of the last epoch's batch:  tensor(20.8826, grad_fn=<SqrtBackward>)\n",
      " \n",
      "Epoch 8\n",
      "Batch:  1 , loss:  tensor(21.6431, grad_fn=<SqrtBackward>)\n",
      "Batch:  2 , loss:  tensor(19.7368, grad_fn=<SqrtBackward>)\n",
      "Batch:  3 , loss:  tensor(18.5834, grad_fn=<SqrtBackward>)\n",
      "Batch:  4 , loss:  tensor(20.5260, grad_fn=<SqrtBackward>)\n",
      "Batch:  5 , loss:  tensor(18.9486, grad_fn=<SqrtBackward>)\n",
      "Batch:  6 , loss:  tensor(19.0810, grad_fn=<SqrtBackward>)\n",
      "Batch:  7 , loss:  tensor(17.7864, grad_fn=<SqrtBackward>)\n",
      "Result of the last epoch's batch:  tensor(17.7864, grad_fn=<SqrtBackward>)\n",
      " \n",
      "Epoch 9\n",
      "Batch:  1 , loss:  tensor(15.7186, grad_fn=<SqrtBackward>)\n",
      "Batch:  2 , loss:  tensor(18.9382, grad_fn=<SqrtBackward>)\n",
      "Batch:  3 , loss:  tensor(16.9080, grad_fn=<SqrtBackward>)\n",
      "Batch:  4 , loss:  tensor(15.1791, grad_fn=<SqrtBackward>)\n",
      "Batch:  5 , loss:  tensor(14.9101, grad_fn=<SqrtBackward>)\n",
      "Batch:  6 , loss:  tensor(15.3104, grad_fn=<SqrtBackward>)\n",
      "Batch:  7 , loss:  tensor(14.1986, grad_fn=<SqrtBackward>)\n",
      "Result of the last epoch's batch:  tensor(14.1986, grad_fn=<SqrtBackward>)\n",
      " \n",
      "Epoch 10\n",
      "Batch:  1 , loss:  tensor(13.6478, grad_fn=<SqrtBackward>)\n",
      "Batch:  2 , loss:  tensor(12.9827, grad_fn=<SqrtBackward>)\n",
      "Batch:  3 , loss:  tensor(12.0595, grad_fn=<SqrtBackward>)\n",
      "Batch:  4 , loss:  tensor(12.1940, grad_fn=<SqrtBackward>)\n",
      "Batch:  5 , loss:  tensor(10.0223, grad_fn=<SqrtBackward>)\n",
      "Batch:  6 , loss:  tensor(9.7159, grad_fn=<SqrtBackward>)\n",
      "Batch:  7 , loss:  tensor(9.1165, grad_fn=<SqrtBackward>)\n",
      "Result of the last epoch's batch:  tensor(9.1165, grad_fn=<SqrtBackward>)\n",
      " \n",
      "Epoch 11\n",
      "Batch:  1 , loss:  tensor(9.9378, grad_fn=<SqrtBackward>)\n",
      "Batch:  2 , loss:  tensor(9.8144, grad_fn=<SqrtBackward>)\n",
      "Batch:  3 , loss:  tensor(8.7304, grad_fn=<SqrtBackward>)\n",
      "Batch:  4 , loss:  tensor(8.6554, grad_fn=<SqrtBackward>)\n",
      "Batch:  5 , loss:  tensor(9.5692, grad_fn=<SqrtBackward>)\n",
      "Batch:  6 , loss:  tensor(8.7167, grad_fn=<SqrtBackward>)\n",
      "Batch:  7 , loss:  tensor(10.7388, grad_fn=<SqrtBackward>)\n",
      "Result of the last epoch's batch:  tensor(10.7388, grad_fn=<SqrtBackward>)\n",
      " \n",
      "Epoch 12\n",
      "Batch:  1 , loss:  tensor(9.7513, grad_fn=<SqrtBackward>)\n",
      "Batch:  2 , loss:  tensor(9.8100, grad_fn=<SqrtBackward>)\n",
      "Batch:  3 , loss:  tensor(10.0389, grad_fn=<SqrtBackward>)\n",
      "Batch:  4 , loss:  tensor(8.2221, grad_fn=<SqrtBackward>)\n",
      "Batch:  5 , loss:  tensor(8.4912, grad_fn=<SqrtBackward>)\n",
      "Batch:  6 , loss:  tensor(8.8808, grad_fn=<SqrtBackward>)\n",
      "Batch:  7 , loss:  tensor(8.2535, grad_fn=<SqrtBackward>)\n",
      "Result of the last epoch's batch:  tensor(8.2535, grad_fn=<SqrtBackward>)\n",
      " \n",
      "Epoch 13\n",
      "Batch:  1 , loss:  tensor(7.9243, grad_fn=<SqrtBackward>)\n",
      "Batch:  2 , loss:  tensor(7.3900, grad_fn=<SqrtBackward>)\n",
      "Batch:  3 , loss:  tensor(7.7586, grad_fn=<SqrtBackward>)\n",
      "Batch:  4 , loss:  tensor(8.0799, grad_fn=<SqrtBackward>)\n",
      "Batch:  5 , loss:  tensor(8.1457, grad_fn=<SqrtBackward>)\n",
      "Batch:  6 , loss:  tensor(8.3015, grad_fn=<SqrtBackward>)\n",
      "Batch:  7 , loss:  tensor(8.3446, grad_fn=<SqrtBackward>)\n",
      "Result of the last epoch's batch:  tensor(8.3446, grad_fn=<SqrtBackward>)\n",
      " \n",
      "Epoch 14\n",
      "Batch:  1 , loss:  tensor(7.1420, grad_fn=<SqrtBackward>)\n",
      "Batch:  2 , loss:  tensor(8.1373, grad_fn=<SqrtBackward>)\n",
      "Batch:  3 , loss:  tensor(8.3259, grad_fn=<SqrtBackward>)\n",
      "Batch:  4 , loss:  tensor(7.7443, grad_fn=<SqrtBackward>)\n",
      "Batch:  5 , loss:  tensor(7.7924, grad_fn=<SqrtBackward>)\n",
      "Batch:  6 , loss:  tensor(6.7606, grad_fn=<SqrtBackward>)\n",
      "Batch:  7 , loss:  tensor(6.4897, grad_fn=<SqrtBackward>)\n",
      "Result of the last epoch's batch:  tensor(6.4897, grad_fn=<SqrtBackward>)\n",
      " \n",
      "Epoch 15\n",
      "Batch:  1 , loss:  tensor(7.1510, grad_fn=<SqrtBackward>)\n",
      "Batch:  2 , loss:  tensor(7.0733, grad_fn=<SqrtBackward>)\n",
      "Batch:  3 , loss:  tensor(6.8663, grad_fn=<SqrtBackward>)\n",
      "Batch:  4 , loss:  tensor(6.7848, grad_fn=<SqrtBackward>)\n",
      "Batch:  5 , loss:  tensor(6.5825, grad_fn=<SqrtBackward>)\n",
      "Batch:  6 , loss:  tensor(5.9067, grad_fn=<SqrtBackward>)\n",
      "Batch:  7 , loss:  tensor(7.5080, grad_fn=<SqrtBackward>)\n",
      "Result of the last epoch's batch:  tensor(7.5080, grad_fn=<SqrtBackward>)\n",
      " \n",
      "Epoch 16\n",
      "Batch:  1 , loss:  tensor(6.0551, grad_fn=<SqrtBackward>)\n",
      "Batch:  2 , loss:  tensor(6.8917, grad_fn=<SqrtBackward>)\n",
      "Batch:  3 , loss:  tensor(5.7846, grad_fn=<SqrtBackward>)\n",
      "Batch:  4 , loss:  tensor(7.2748, grad_fn=<SqrtBackward>)\n",
      "Batch:  5 , loss:  tensor(6.1505, grad_fn=<SqrtBackward>)\n",
      "Batch:  6 , loss:  tensor(6.8134, grad_fn=<SqrtBackward>)\n",
      "Batch:  7 , loss:  tensor(5.4767, grad_fn=<SqrtBackward>)\n",
      "Result of the last epoch's batch:  tensor(5.4767, grad_fn=<SqrtBackward>)\n",
      " \n",
      "Epoch 17\n",
      "Batch:  1 , loss:  tensor(6.0549, grad_fn=<SqrtBackward>)\n",
      "Batch:  2 , loss:  tensor(6.8117, grad_fn=<SqrtBackward>)\n",
      "Batch:  3 , loss:  tensor(5.4771, grad_fn=<SqrtBackward>)\n",
      "Batch:  4 , loss:  tensor(6.4403, grad_fn=<SqrtBackward>)\n",
      "Batch:  5 , loss:  tensor(5.8369, grad_fn=<SqrtBackward>)\n",
      "Batch:  6 , loss:  tensor(5.6487, grad_fn=<SqrtBackward>)\n",
      "Batch:  7 , loss:  tensor(5.1560, grad_fn=<SqrtBackward>)\n",
      "Result of the last epoch's batch:  tensor(5.1560, grad_fn=<SqrtBackward>)\n",
      " \n",
      "Epoch 18\n"
     ]
    },
    {
     "name": "stdout",
     "output_type": "stream",
     "text": [
      "Batch:  1 , loss:  tensor(5.7000, grad_fn=<SqrtBackward>)\n",
      "Batch:  2 , loss:  tensor(5.9253, grad_fn=<SqrtBackward>)\n",
      "Batch:  3 , loss:  tensor(5.8118, grad_fn=<SqrtBackward>)\n",
      "Batch:  4 , loss:  tensor(5.3828, grad_fn=<SqrtBackward>)\n",
      "Batch:  5 , loss:  tensor(5.3020, grad_fn=<SqrtBackward>)\n",
      "Batch:  6 , loss:  tensor(5.0693, grad_fn=<SqrtBackward>)\n",
      "Batch:  7 , loss:  tensor(6.1126, grad_fn=<SqrtBackward>)\n",
      "Result of the last epoch's batch:  tensor(6.1126, grad_fn=<SqrtBackward>)\n",
      " \n",
      "Epoch 19\n",
      "Batch:  1 , loss:  tensor(5.3291, grad_fn=<SqrtBackward>)\n",
      "Batch:  2 , loss:  tensor(4.9454, grad_fn=<SqrtBackward>)\n",
      "Batch:  3 , loss:  tensor(6.5648, grad_fn=<SqrtBackward>)\n",
      "Batch:  4 , loss:  tensor(5.8964, grad_fn=<SqrtBackward>)\n",
      "Batch:  5 , loss:  tensor(4.4621, grad_fn=<SqrtBackward>)\n",
      "Batch:  6 , loss:  tensor(5.4515, grad_fn=<SqrtBackward>)\n",
      "Batch:  7 , loss:  tensor(4.2824, grad_fn=<SqrtBackward>)\n",
      "Result of the last epoch's batch:  tensor(4.2824, grad_fn=<SqrtBackward>)\n",
      " \n",
      "Epoch 20\n",
      "Batch:  1 , loss:  tensor(4.9652, grad_fn=<SqrtBackward>)\n",
      "Batch:  2 , loss:  tensor(6.2437, grad_fn=<SqrtBackward>)\n",
      "Batch:  3 , loss:  tensor(5.0845, grad_fn=<SqrtBackward>)\n",
      "Batch:  4 , loss:  tensor(5.5721, grad_fn=<SqrtBackward>)\n",
      "Batch:  5 , loss:  tensor(4.8798, grad_fn=<SqrtBackward>)\n",
      "Batch:  6 , loss:  tensor(4.7981, grad_fn=<SqrtBackward>)\n",
      "Batch:  7 , loss:  tensor(4.0562, grad_fn=<SqrtBackward>)\n",
      "Result of the last epoch's batch:  tensor(4.0562, grad_fn=<SqrtBackward>)\n",
      " \n",
      "Epoch 21\n",
      "Batch:  1 , loss:  tensor(4.9198, grad_fn=<SqrtBackward>)\n",
      "Batch:  2 , loss:  tensor(4.4971, grad_fn=<SqrtBackward>)\n",
      "Batch:  3 , loss:  tensor(5.1479, grad_fn=<SqrtBackward>)\n",
      "Batch:  4 , loss:  tensor(5.2273, grad_fn=<SqrtBackward>)\n",
      "Batch:  5 , loss:  tensor(5.5398, grad_fn=<SqrtBackward>)\n",
      "Batch:  6 , loss:  tensor(4.6509, grad_fn=<SqrtBackward>)\n",
      "Batch:  7 , loss:  tensor(4.8053, grad_fn=<SqrtBackward>)\n",
      "Result of the last epoch's batch:  tensor(4.8053, grad_fn=<SqrtBackward>)\n",
      " \n",
      "Epoch 22\n",
      "Batch:  1 , loss:  tensor(4.8403, grad_fn=<SqrtBackward>)\n",
      "Batch:  2 , loss:  tensor(4.9407, grad_fn=<SqrtBackward>)\n",
      "Batch:  3 , loss:  tensor(4.8088, grad_fn=<SqrtBackward>)\n",
      "Batch:  4 , loss:  tensor(5.0031, grad_fn=<SqrtBackward>)\n",
      "Batch:  5 , loss:  tensor(4.9086, grad_fn=<SqrtBackward>)\n",
      "Batch:  6 , loss:  tensor(4.4606, grad_fn=<SqrtBackward>)\n",
      "Batch:  7 , loss:  tensor(5.1423, grad_fn=<SqrtBackward>)\n",
      "Result of the last epoch's batch:  tensor(5.1423, grad_fn=<SqrtBackward>)\n",
      " \n",
      "Epoch 23\n",
      "Batch:  1 , loss:  tensor(4.8359, grad_fn=<SqrtBackward>)\n",
      "Batch:  2 , loss:  tensor(4.6253, grad_fn=<SqrtBackward>)\n",
      "Batch:  3 , loss:  tensor(5.2222, grad_fn=<SqrtBackward>)\n",
      "Batch:  4 , loss:  tensor(4.7503, grad_fn=<SqrtBackward>)\n",
      "Batch:  5 , loss:  tensor(3.9215, grad_fn=<SqrtBackward>)\n",
      "Batch:  6 , loss:  tensor(4.6950, grad_fn=<SqrtBackward>)\n",
      "Batch:  7 , loss:  tensor(5.4065, grad_fn=<SqrtBackward>)\n",
      "Result of the last epoch's batch:  tensor(5.4065, grad_fn=<SqrtBackward>)\n",
      " \n",
      "Epoch 24\n",
      "Batch:  1 , loss:  tensor(4.5051, grad_fn=<SqrtBackward>)\n",
      "Batch:  2 , loss:  tensor(3.9152, grad_fn=<SqrtBackward>)\n",
      "Batch:  3 , loss:  tensor(3.8668, grad_fn=<SqrtBackward>)\n",
      "Batch:  4 , loss:  tensor(5.0389, grad_fn=<SqrtBackward>)\n",
      "Batch:  5 , loss:  tensor(5.2661, grad_fn=<SqrtBackward>)\n",
      "Batch:  6 , loss:  tensor(5.4446, grad_fn=<SqrtBackward>)\n",
      "Batch:  7 , loss:  tensor(4.7571, grad_fn=<SqrtBackward>)\n",
      "Result of the last epoch's batch:  tensor(4.7571, grad_fn=<SqrtBackward>)\n",
      " \n",
      "Epoch 25\n",
      "Batch:  1 , loss:  tensor(4.3288, grad_fn=<SqrtBackward>)\n",
      "Batch:  2 , loss:  tensor(4.2011, grad_fn=<SqrtBackward>)\n",
      "Batch:  3 , loss:  tensor(4.2220, grad_fn=<SqrtBackward>)\n",
      "Batch:  4 , loss:  tensor(4.2214, grad_fn=<SqrtBackward>)\n",
      "Batch:  5 , loss:  tensor(4.1304, grad_fn=<SqrtBackward>)\n",
      "Batch:  6 , loss:  tensor(5.6526, grad_fn=<SqrtBackward>)\n",
      "Batch:  7 , loss:  tensor(5.5430, grad_fn=<SqrtBackward>)\n",
      "Result of the last epoch's batch:  tensor(5.5430, grad_fn=<SqrtBackward>)\n",
      " \n",
      "Epoch 26\n",
      "Batch:  1 , loss:  tensor(3.4811, grad_fn=<SqrtBackward>)\n",
      "Batch:  2 , loss:  tensor(4.6992, grad_fn=<SqrtBackward>)\n",
      "Batch:  3 , loss:  tensor(4.4351, grad_fn=<SqrtBackward>)\n",
      "Batch:  4 , loss:  tensor(4.9520, grad_fn=<SqrtBackward>)\n",
      "Batch:  5 , loss:  tensor(3.9636, grad_fn=<SqrtBackward>)\n",
      "Batch:  6 , loss:  tensor(5.4827, grad_fn=<SqrtBackward>)\n",
      "Batch:  7 , loss:  tensor(4.7233, grad_fn=<SqrtBackward>)\n",
      "Result of the last epoch's batch:  tensor(4.7233, grad_fn=<SqrtBackward>)\n",
      " \n",
      "Epoch 27\n",
      "Batch:  1 , loss:  tensor(3.9896, grad_fn=<SqrtBackward>)\n",
      "Batch:  2 , loss:  tensor(4.6745, grad_fn=<SqrtBackward>)\n",
      "Batch:  3 , loss:  tensor(5.2144, grad_fn=<SqrtBackward>)\n",
      "Batch:  4 , loss:  tensor(4.3910, grad_fn=<SqrtBackward>)\n",
      "Batch:  5 , loss:  tensor(3.8638, grad_fn=<SqrtBackward>)\n",
      "Batch:  6 , loss:  tensor(4.0440, grad_fn=<SqrtBackward>)\n",
      "Batch:  7 , loss:  tensor(5.2349, grad_fn=<SqrtBackward>)\n",
      "Result of the last epoch's batch:  tensor(5.2349, grad_fn=<SqrtBackward>)\n",
      " \n",
      "Epoch 28\n",
      "Batch:  1 , loss:  tensor(4.7591, grad_fn=<SqrtBackward>)\n",
      "Batch:  2 , loss:  tensor(3.6557, grad_fn=<SqrtBackward>)\n",
      "Batch:  3 , loss:  tensor(4.7841, grad_fn=<SqrtBackward>)\n",
      "Batch:  4 , loss:  tensor(5.1907, grad_fn=<SqrtBackward>)\n",
      "Batch:  5 , loss:  tensor(4.4152, grad_fn=<SqrtBackward>)\n",
      "Batch:  6 , loss:  tensor(4.2650, grad_fn=<SqrtBackward>)\n",
      "Batch:  7 , loss:  tensor(3.9069, grad_fn=<SqrtBackward>)\n",
      "Result of the last epoch's batch:  tensor(3.9069, grad_fn=<SqrtBackward>)\n",
      " \n",
      "Epoch 29\n",
      "Batch:  1 , loss:  tensor(4.1910, grad_fn=<SqrtBackward>)\n",
      "Batch:  2 , loss:  tensor(5.3266, grad_fn=<SqrtBackward>)\n",
      "Batch:  3 , loss:  tensor(3.9825, grad_fn=<SqrtBackward>)\n",
      "Batch:  4 , loss:  tensor(3.5321, grad_fn=<SqrtBackward>)\n",
      "Batch:  5 , loss:  tensor(4.8695, grad_fn=<SqrtBackward>)\n",
      "Batch:  6 , loss:  tensor(3.7654, grad_fn=<SqrtBackward>)\n",
      "Batch:  7 , loss:  tensor(4.9292, grad_fn=<SqrtBackward>)\n",
      "Result of the last epoch's batch:  tensor(4.9292, grad_fn=<SqrtBackward>)\n",
      " \n",
      "Epoch 30\n",
      "Batch:  1 , loss:  tensor(3.5613, grad_fn=<SqrtBackward>)\n",
      "Batch:  2 , loss:  tensor(4.9069, grad_fn=<SqrtBackward>)\n",
      "Batch:  3 , loss:  tensor(4.0064, grad_fn=<SqrtBackward>)\n",
      "Batch:  4 , loss:  tensor(4.0738, grad_fn=<SqrtBackward>)\n",
      "Batch:  5 , loss:  tensor(4.3273, grad_fn=<SqrtBackward>)\n",
      "Batch:  6 , loss:  tensor(4.7440, grad_fn=<SqrtBackward>)\n",
      "Batch:  7 , loss:  tensor(4.6348, grad_fn=<SqrtBackward>)\n",
      "Result of the last epoch's batch:  tensor(4.6348, grad_fn=<SqrtBackward>)\n",
      " \n",
      "Epoch 31\n",
      "Batch:  1 , loss:  tensor(4.0135, grad_fn=<SqrtBackward>)\n",
      "Batch:  2 , loss:  tensor(4.6449, grad_fn=<SqrtBackward>)\n",
      "Batch:  3 , loss:  tensor(4.1704, grad_fn=<SqrtBackward>)\n",
      "Batch:  4 , loss:  tensor(3.9561, grad_fn=<SqrtBackward>)\n",
      "Batch:  5 , loss:  tensor(4.5346, grad_fn=<SqrtBackward>)\n",
      "Batch:  6 , loss:  tensor(3.5705, grad_fn=<SqrtBackward>)\n",
      "Batch:  7 , loss:  tensor(5.3257, grad_fn=<SqrtBackward>)\n",
      "Result of the last epoch's batch:  tensor(5.3257, grad_fn=<SqrtBackward>)\n",
      " \n",
      "Epoch 32\n",
      "Batch:  1 , loss:  tensor(3.7695, grad_fn=<SqrtBackward>)\n",
      "Batch:  2 , loss:  tensor(4.1321, grad_fn=<SqrtBackward>)\n",
      "Batch:  3 , loss:  tensor(4.2431, grad_fn=<SqrtBackward>)\n",
      "Batch:  4 , loss:  tensor(4.8160, grad_fn=<SqrtBackward>)\n",
      "Batch:  5 , loss:  tensor(4.0714, grad_fn=<SqrtBackward>)\n",
      "Batch:  6 , loss:  tensor(4.3577, grad_fn=<SqrtBackward>)\n",
      "Batch:  7 , loss:  tensor(4.2818, grad_fn=<SqrtBackward>)\n",
      "Result of the last epoch's batch:  tensor(4.2818, grad_fn=<SqrtBackward>)\n",
      " \n",
      "Epoch 33\n",
      "Batch:  1 , loss:  tensor(4.9859, grad_fn=<SqrtBackward>)\n",
      "Batch:  2 , loss:  tensor(4.3625, grad_fn=<SqrtBackward>)\n",
      "Batch:  3 , loss:  tensor(4.3038, grad_fn=<SqrtBackward>)\n",
      "Batch:  4 , loss:  tensor(4.3501, grad_fn=<SqrtBackward>)\n",
      "Batch:  5 , loss:  tensor(3.5050, grad_fn=<SqrtBackward>)\n",
      "Batch:  6 , loss:  tensor(3.9293, grad_fn=<SqrtBackward>)\n",
      "Batch:  7 , loss:  tensor(3.9945, grad_fn=<SqrtBackward>)\n",
      "Result of the last epoch's batch:  tensor(3.9945, grad_fn=<SqrtBackward>)\n",
      " \n",
      "Epoch 34\n",
      "Batch:  1 , loss:  tensor(4.7173, grad_fn=<SqrtBackward>)\n",
      "Batch:  2 , loss:  tensor(3.9926, grad_fn=<SqrtBackward>)\n",
      "Batch:  3 , loss:  tensor(4.6562, grad_fn=<SqrtBackward>)\n",
      "Batch:  4 , loss:  tensor(4.3724, grad_fn=<SqrtBackward>)\n",
      "Batch:  5 , loss:  tensor(3.7601, grad_fn=<SqrtBackward>)\n",
      "Batch:  6 , loss:  tensor(4.3115, grad_fn=<SqrtBackward>)\n",
      "Batch:  7 , loss:  tensor(3.1217, grad_fn=<SqrtBackward>)\n",
      "Result of the last epoch's batch:  tensor(3.1217, grad_fn=<SqrtBackward>)\n",
      " \n",
      "Epoch 35\n"
     ]
    },
    {
     "name": "stdout",
     "output_type": "stream",
     "text": [
      "Batch:  1 , loss:  tensor(3.3210, grad_fn=<SqrtBackward>)\n",
      "Batch:  2 , loss:  tensor(4.3557, grad_fn=<SqrtBackward>)\n",
      "Batch:  3 , loss:  tensor(3.9619, grad_fn=<SqrtBackward>)\n",
      "Batch:  4 , loss:  tensor(4.3312, grad_fn=<SqrtBackward>)\n",
      "Batch:  5 , loss:  tensor(5.0104, grad_fn=<SqrtBackward>)\n",
      "Batch:  6 , loss:  tensor(3.5668, grad_fn=<SqrtBackward>)\n",
      "Batch:  7 , loss:  tensor(4.0852, grad_fn=<SqrtBackward>)\n",
      "Result of the last epoch's batch:  tensor(4.0852, grad_fn=<SqrtBackward>)\n",
      " \n",
      "Epoch 36\n",
      "Batch:  1 , loss:  tensor(3.9979, grad_fn=<SqrtBackward>)\n",
      "Batch:  2 , loss:  tensor(4.0126, grad_fn=<SqrtBackward>)\n",
      "Batch:  3 , loss:  tensor(4.3795, grad_fn=<SqrtBackward>)\n",
      "Batch:  4 , loss:  tensor(4.0195, grad_fn=<SqrtBackward>)\n",
      "Batch:  5 , loss:  tensor(3.7111, grad_fn=<SqrtBackward>)\n",
      "Batch:  6 , loss:  tensor(4.5588, grad_fn=<SqrtBackward>)\n",
      "Batch:  7 , loss:  tensor(3.9331, grad_fn=<SqrtBackward>)\n",
      "Result of the last epoch's batch:  tensor(3.9331, grad_fn=<SqrtBackward>)\n",
      " \n",
      "Epoch 37\n",
      "Batch:  1 , loss:  tensor(4.1790, grad_fn=<SqrtBackward>)\n",
      "Batch:  2 , loss:  tensor(3.9307, grad_fn=<SqrtBackward>)\n",
      "Batch:  3 , loss:  tensor(4.1528, grad_fn=<SqrtBackward>)\n",
      "Batch:  4 , loss:  tensor(4.1647, grad_fn=<SqrtBackward>)\n",
      "Batch:  5 , loss:  tensor(4.1415, grad_fn=<SqrtBackward>)\n",
      "Batch:  6 , loss:  tensor(3.4022, grad_fn=<SqrtBackward>)\n",
      "Batch:  7 , loss:  tensor(4.2929, grad_fn=<SqrtBackward>)\n",
      "Result of the last epoch's batch:  tensor(4.2929, grad_fn=<SqrtBackward>)\n",
      " \n",
      "Epoch 38\n",
      "Batch:  1 , loss:  tensor(3.9332, grad_fn=<SqrtBackward>)\n",
      "Batch:  2 , loss:  tensor(4.7964, grad_fn=<SqrtBackward>)\n",
      "Batch:  3 , loss:  tensor(3.9557, grad_fn=<SqrtBackward>)\n",
      "Batch:  4 , loss:  tensor(4.1065, grad_fn=<SqrtBackward>)\n",
      "Batch:  5 , loss:  tensor(3.7183, grad_fn=<SqrtBackward>)\n",
      "Batch:  6 , loss:  tensor(3.8776, grad_fn=<SqrtBackward>)\n",
      "Batch:  7 , loss:  tensor(3.5811, grad_fn=<SqrtBackward>)\n",
      "Result of the last epoch's batch:  tensor(3.5811, grad_fn=<SqrtBackward>)\n",
      " \n",
      "Epoch 39\n",
      "Batch:  1 , loss:  tensor(3.8160, grad_fn=<SqrtBackward>)\n",
      "Batch:  2 , loss:  tensor(4.3380, grad_fn=<SqrtBackward>)\n",
      "Batch:  3 , loss:  tensor(4.3275, grad_fn=<SqrtBackward>)\n",
      "Batch:  4 , loss:  tensor(3.8073, grad_fn=<SqrtBackward>)\n",
      "Batch:  5 , loss:  tensor(4.4120, grad_fn=<SqrtBackward>)\n",
      "Batch:  6 , loss:  tensor(3.7719, grad_fn=<SqrtBackward>)\n",
      "Batch:  7 , loss:  tensor(3.0186, grad_fn=<SqrtBackward>)\n",
      "Result of the last epoch's batch:  tensor(3.0186, grad_fn=<SqrtBackward>)\n",
      " \n",
      "Epoch 40\n",
      "Batch:  1 , loss:  tensor(3.6223, grad_fn=<SqrtBackward>)\n",
      "Batch:  2 , loss:  tensor(4.1873, grad_fn=<SqrtBackward>)\n",
      "Batch:  3 , loss:  tensor(3.7223, grad_fn=<SqrtBackward>)\n",
      "Batch:  4 , loss:  tensor(4.7237, grad_fn=<SqrtBackward>)\n",
      "Batch:  5 , loss:  tensor(3.5646, grad_fn=<SqrtBackward>)\n",
      "Batch:  6 , loss:  tensor(3.8362, grad_fn=<SqrtBackward>)\n",
      "Batch:  7 , loss:  tensor(3.6268, grad_fn=<SqrtBackward>)\n",
      "Result of the last epoch's batch:  tensor(3.6268, grad_fn=<SqrtBackward>)\n",
      " \n",
      "Epoch 41\n",
      "Batch:  1 , loss:  tensor(4.4281, grad_fn=<SqrtBackward>)\n",
      "Batch:  2 , loss:  tensor(3.6077, grad_fn=<SqrtBackward>)\n",
      "Batch:  3 , loss:  tensor(3.2953, grad_fn=<SqrtBackward>)\n",
      "Batch:  4 , loss:  tensor(3.7305, grad_fn=<SqrtBackward>)\n",
      "Batch:  5 , loss:  tensor(3.8004, grad_fn=<SqrtBackward>)\n",
      "Batch:  6 , loss:  tensor(3.6442, grad_fn=<SqrtBackward>)\n",
      "Batch:  7 , loss:  tensor(4.5235, grad_fn=<SqrtBackward>)\n",
      "Result of the last epoch's batch:  tensor(4.5235, grad_fn=<SqrtBackward>)\n",
      " \n",
      "Epoch 42\n",
      "Batch:  1 , loss:  tensor(4.2619, grad_fn=<SqrtBackward>)\n",
      "Batch:  2 , loss:  tensor(3.7609, grad_fn=<SqrtBackward>)\n",
      "Batch:  3 , loss:  tensor(3.7991, grad_fn=<SqrtBackward>)\n",
      "Batch:  4 , loss:  tensor(4.3479, grad_fn=<SqrtBackward>)\n",
      "Batch:  5 , loss:  tensor(2.8276, grad_fn=<SqrtBackward>)\n",
      "Batch:  6 , loss:  tensor(4.0789, grad_fn=<SqrtBackward>)\n",
      "Batch:  7 , loss:  tensor(3.4969, grad_fn=<SqrtBackward>)\n",
      "Result of the last epoch's batch:  tensor(3.4969, grad_fn=<SqrtBackward>)\n",
      " \n",
      "Epoch 43\n",
      "Batch:  1 , loss:  tensor(3.3313, grad_fn=<SqrtBackward>)\n",
      "Batch:  2 , loss:  tensor(3.9799, grad_fn=<SqrtBackward>)\n",
      "Batch:  3 , loss:  tensor(3.4309, grad_fn=<SqrtBackward>)\n",
      "Batch:  4 , loss:  tensor(3.2694, grad_fn=<SqrtBackward>)\n",
      "Batch:  5 , loss:  tensor(4.1562, grad_fn=<SqrtBackward>)\n",
      "Batch:  6 , loss:  tensor(4.3354, grad_fn=<SqrtBackward>)\n",
      "Batch:  7 , loss:  tensor(4.0077, grad_fn=<SqrtBackward>)\n",
      "Result of the last epoch's batch:  tensor(4.0077, grad_fn=<SqrtBackward>)\n",
      " \n",
      "Epoch 44\n",
      "Batch:  1 , loss:  tensor(3.4975, grad_fn=<SqrtBackward>)\n",
      "Batch:  2 , loss:  tensor(2.7048, grad_fn=<SqrtBackward>)\n",
      "Batch:  3 , loss:  tensor(3.4229, grad_fn=<SqrtBackward>)\n",
      "Batch:  4 , loss:  tensor(4.2625, grad_fn=<SqrtBackward>)\n",
      "Batch:  5 , loss:  tensor(4.0646, grad_fn=<SqrtBackward>)\n",
      "Batch:  6 , loss:  tensor(4.1429, grad_fn=<SqrtBackward>)\n",
      "Batch:  7 , loss:  tensor(3.8711, grad_fn=<SqrtBackward>)\n",
      "Result of the last epoch's batch:  tensor(3.8711, grad_fn=<SqrtBackward>)\n",
      " \n",
      "Epoch 45\n",
      "Batch:  1 , loss:  tensor(3.9185, grad_fn=<SqrtBackward>)\n",
      "Batch:  2 , loss:  tensor(3.3561, grad_fn=<SqrtBackward>)\n",
      "Batch:  3 , loss:  tensor(4.3262, grad_fn=<SqrtBackward>)\n",
      "Batch:  4 , loss:  tensor(3.7323, grad_fn=<SqrtBackward>)\n",
      "Batch:  5 , loss:  tensor(3.0592, grad_fn=<SqrtBackward>)\n",
      "Batch:  6 , loss:  tensor(3.9741, grad_fn=<SqrtBackward>)\n",
      "Batch:  7 , loss:  tensor(3.5238, grad_fn=<SqrtBackward>)\n",
      "Result of the last epoch's batch:  tensor(3.5238, grad_fn=<SqrtBackward>)\n",
      " \n",
      "Epoch 46\n",
      "Batch:  1 , loss:  tensor(4.1408, grad_fn=<SqrtBackward>)\n",
      "Batch:  2 , loss:  tensor(3.4090, grad_fn=<SqrtBackward>)\n",
      "Batch:  3 , loss:  tensor(3.6658, grad_fn=<SqrtBackward>)\n",
      "Batch:  4 , loss:  tensor(3.4122, grad_fn=<SqrtBackward>)\n",
      "Batch:  5 , loss:  tensor(4.0010, grad_fn=<SqrtBackward>)\n",
      "Batch:  6 , loss:  tensor(3.8195, grad_fn=<SqrtBackward>)\n",
      "Batch:  7 , loss:  tensor(3.1506, grad_fn=<SqrtBackward>)\n",
      "Result of the last epoch's batch:  tensor(3.1506, grad_fn=<SqrtBackward>)\n",
      " \n",
      "Epoch 47\n",
      "Batch:  1 , loss:  tensor(3.9553, grad_fn=<SqrtBackward>)\n",
      "Batch:  2 , loss:  tensor(3.5074, grad_fn=<SqrtBackward>)\n",
      "Batch:  3 , loss:  tensor(3.3991, grad_fn=<SqrtBackward>)\n",
      "Batch:  4 , loss:  tensor(3.1191, grad_fn=<SqrtBackward>)\n",
      "Batch:  5 , loss:  tensor(3.9409, grad_fn=<SqrtBackward>)\n",
      "Batch:  6 , loss:  tensor(3.5489, grad_fn=<SqrtBackward>)\n",
      "Batch:  7 , loss:  tensor(3.9704, grad_fn=<SqrtBackward>)\n",
      "Result of the last epoch's batch:  tensor(3.9704, grad_fn=<SqrtBackward>)\n",
      " \n",
      "Epoch 48\n",
      "Batch:  1 , loss:  tensor(3.3326, grad_fn=<SqrtBackward>)\n",
      "Batch:  2 , loss:  tensor(3.8608, grad_fn=<SqrtBackward>)\n",
      "Batch:  3 , loss:  tensor(3.3630, grad_fn=<SqrtBackward>)\n",
      "Batch:  4 , loss:  tensor(3.3638, grad_fn=<SqrtBackward>)\n",
      "Batch:  5 , loss:  tensor(3.9045, grad_fn=<SqrtBackward>)\n",
      "Batch:  6 , loss:  tensor(3.7621, grad_fn=<SqrtBackward>)\n",
      "Batch:  7 , loss:  tensor(3.6954, grad_fn=<SqrtBackward>)\n",
      "Result of the last epoch's batch:  tensor(3.6954, grad_fn=<SqrtBackward>)\n",
      " \n",
      "Epoch 49\n",
      "Batch:  1 , loss:  tensor(3.3708, grad_fn=<SqrtBackward>)\n",
      "Batch:  2 , loss:  tensor(3.4417, grad_fn=<SqrtBackward>)\n",
      "Batch:  3 , loss:  tensor(3.4352, grad_fn=<SqrtBackward>)\n",
      "Batch:  4 , loss:  tensor(3.1291, grad_fn=<SqrtBackward>)\n",
      "Batch:  5 , loss:  tensor(3.6967, grad_fn=<SqrtBackward>)\n",
      "Batch:  6 , loss:  tensor(3.7159, grad_fn=<SqrtBackward>)\n",
      "Batch:  7 , loss:  tensor(3.9778, grad_fn=<SqrtBackward>)\n",
      "Result of the last epoch's batch:  tensor(3.9778, grad_fn=<SqrtBackward>)\n",
      " \n",
      "Epoch 50\n",
      "Batch:  1 , loss:  tensor(3.0681, grad_fn=<SqrtBackward>)\n",
      "Batch:  2 , loss:  tensor(3.7523, grad_fn=<SqrtBackward>)\n",
      "Batch:  3 , loss:  tensor(3.4339, grad_fn=<SqrtBackward>)\n",
      "Batch:  4 , loss:  tensor(3.7682, grad_fn=<SqrtBackward>)\n",
      "Batch:  5 , loss:  tensor(3.2865, grad_fn=<SqrtBackward>)\n",
      "Batch:  6 , loss:  tensor(3.0693, grad_fn=<SqrtBackward>)\n",
      "Batch:  7 , loss:  tensor(3.8879, grad_fn=<SqrtBackward>)\n",
      "Result of the last epoch's batch:  tensor(3.8879, grad_fn=<SqrtBackward>)\n",
      " \n",
      "Epoch 51\n",
      "Batch:  1 , loss:  tensor(2.3810, grad_fn=<SqrtBackward>)\n",
      "Batch:  2 , loss:  tensor(3.2491, grad_fn=<SqrtBackward>)\n",
      "Batch:  3 , loss:  tensor(3.8882, grad_fn=<SqrtBackward>)\n",
      "Batch:  4 , loss:  tensor(4.3055, grad_fn=<SqrtBackward>)\n",
      "Batch:  5 , loss:  tensor(3.0905, grad_fn=<SqrtBackward>)\n",
      "Batch:  6 , loss:  tensor(3.5429, grad_fn=<SqrtBackward>)\n",
      "Batch:  7 , loss:  tensor(3.5670, grad_fn=<SqrtBackward>)\n",
      "Result of the last epoch's batch:  tensor(3.5670, grad_fn=<SqrtBackward>)\n",
      " \n",
      "Epoch 52\n"
     ]
    },
    {
     "name": "stdout",
     "output_type": "stream",
     "text": [
      "Batch:  1 , loss:  tensor(4.0603, grad_fn=<SqrtBackward>)\n",
      "Batch:  2 , loss:  tensor(2.8594, grad_fn=<SqrtBackward>)\n",
      "Batch:  3 , loss:  tensor(3.3408, grad_fn=<SqrtBackward>)\n",
      "Batch:  4 , loss:  tensor(2.7493, grad_fn=<SqrtBackward>)\n",
      "Batch:  5 , loss:  tensor(3.7615, grad_fn=<SqrtBackward>)\n",
      "Batch:  6 , loss:  tensor(3.5854, grad_fn=<SqrtBackward>)\n",
      "Batch:  7 , loss:  tensor(3.4179, grad_fn=<SqrtBackward>)\n",
      "Result of the last epoch's batch:  tensor(3.4179, grad_fn=<SqrtBackward>)\n",
      " \n",
      "Epoch 53\n",
      "Batch:  1 , loss:  tensor(2.8550, grad_fn=<SqrtBackward>)\n",
      "Batch:  2 , loss:  tensor(3.4237, grad_fn=<SqrtBackward>)\n",
      "Batch:  3 , loss:  tensor(3.2873, grad_fn=<SqrtBackward>)\n",
      "Batch:  4 , loss:  tensor(3.5741, grad_fn=<SqrtBackward>)\n",
      "Batch:  5 , loss:  tensor(3.2322, grad_fn=<SqrtBackward>)\n",
      "Batch:  6 , loss:  tensor(4.0567, grad_fn=<SqrtBackward>)\n",
      "Batch:  7 , loss:  tensor(3.1322, grad_fn=<SqrtBackward>)\n",
      "Result of the last epoch's batch:  tensor(3.1322, grad_fn=<SqrtBackward>)\n",
      " \n",
      "Epoch 54\n",
      "Batch:  1 , loss:  tensor(3.0795, grad_fn=<SqrtBackward>)\n",
      "Batch:  2 , loss:  tensor(3.6553, grad_fn=<SqrtBackward>)\n",
      "Batch:  3 , loss:  tensor(2.9727, grad_fn=<SqrtBackward>)\n",
      "Batch:  4 , loss:  tensor(3.5669, grad_fn=<SqrtBackward>)\n",
      "Batch:  5 , loss:  tensor(3.1575, grad_fn=<SqrtBackward>)\n",
      "Batch:  6 , loss:  tensor(3.7839, grad_fn=<SqrtBackward>)\n",
      "Batch:  7 , loss:  tensor(3.0383, grad_fn=<SqrtBackward>)\n",
      "Result of the last epoch's batch:  tensor(3.0383, grad_fn=<SqrtBackward>)\n",
      " \n",
      "Epoch 55\n",
      "Batch:  1 , loss:  tensor(2.4652, grad_fn=<SqrtBackward>)\n",
      "Batch:  2 , loss:  tensor(3.5222, grad_fn=<SqrtBackward>)\n",
      "Batch:  3 , loss:  tensor(2.9625, grad_fn=<SqrtBackward>)\n",
      "Batch:  4 , loss:  tensor(3.4015, grad_fn=<SqrtBackward>)\n",
      "Batch:  5 , loss:  tensor(3.2730, grad_fn=<SqrtBackward>)\n",
      "Batch:  6 , loss:  tensor(3.2039, grad_fn=<SqrtBackward>)\n",
      "Batch:  7 , loss:  tensor(4.0678, grad_fn=<SqrtBackward>)\n",
      "Result of the last epoch's batch:  tensor(4.0678, grad_fn=<SqrtBackward>)\n",
      " \n",
      "Epoch 56\n",
      "Batch:  1 , loss:  tensor(2.9792, grad_fn=<SqrtBackward>)\n",
      "Batch:  2 , loss:  tensor(2.9798, grad_fn=<SqrtBackward>)\n",
      "Batch:  3 , loss:  tensor(2.6503, grad_fn=<SqrtBackward>)\n",
      "Batch:  4 , loss:  tensor(3.2495, grad_fn=<SqrtBackward>)\n",
      "Batch:  5 , loss:  tensor(3.2872, grad_fn=<SqrtBackward>)\n",
      "Batch:  6 , loss:  tensor(3.5888, grad_fn=<SqrtBackward>)\n",
      "Batch:  7 , loss:  tensor(4.2237, grad_fn=<SqrtBackward>)\n",
      "Result of the last epoch's batch:  tensor(4.2237, grad_fn=<SqrtBackward>)\n",
      " \n",
      "Epoch 57\n",
      "Batch:  1 , loss:  tensor(3.5922, grad_fn=<SqrtBackward>)\n",
      "Batch:  2 , loss:  tensor(3.2145, grad_fn=<SqrtBackward>)\n",
      "Batch:  3 , loss:  tensor(3.2353, grad_fn=<SqrtBackward>)\n",
      "Batch:  4 , loss:  tensor(3.6535, grad_fn=<SqrtBackward>)\n",
      "Batch:  5 , loss:  tensor(2.9267, grad_fn=<SqrtBackward>)\n",
      "Batch:  6 , loss:  tensor(3.1903, grad_fn=<SqrtBackward>)\n",
      "Batch:  7 , loss:  tensor(3.0696, grad_fn=<SqrtBackward>)\n",
      "Result of the last epoch's batch:  tensor(3.0696, grad_fn=<SqrtBackward>)\n",
      " \n",
      "Epoch 58\n",
      "Batch:  1 , loss:  tensor(3.2131, grad_fn=<SqrtBackward>)\n",
      "Batch:  2 , loss:  tensor(2.7387, grad_fn=<SqrtBackward>)\n",
      "Batch:  3 , loss:  tensor(3.2618, grad_fn=<SqrtBackward>)\n",
      "Batch:  4 , loss:  tensor(3.5553, grad_fn=<SqrtBackward>)\n",
      "Batch:  5 , loss:  tensor(3.2569, grad_fn=<SqrtBackward>)\n",
      "Batch:  6 , loss:  tensor(3.7099, grad_fn=<SqrtBackward>)\n",
      "Batch:  7 , loss:  tensor(3.3945, grad_fn=<SqrtBackward>)\n",
      "Result of the last epoch's batch:  tensor(3.3945, grad_fn=<SqrtBackward>)\n",
      " \n",
      "Epoch 59\n",
      "Batch:  1 , loss:  tensor(2.9321, grad_fn=<SqrtBackward>)\n",
      "Batch:  2 , loss:  tensor(2.5619, grad_fn=<SqrtBackward>)\n",
      "Batch:  3 , loss:  tensor(2.5706, grad_fn=<SqrtBackward>)\n",
      "Batch:  4 , loss:  tensor(3.1479, grad_fn=<SqrtBackward>)\n",
      "Batch:  5 , loss:  tensor(4.0736, grad_fn=<SqrtBackward>)\n",
      "Batch:  6 , loss:  tensor(3.2135, grad_fn=<SqrtBackward>)\n",
      "Batch:  7 , loss:  tensor(3.4772, grad_fn=<SqrtBackward>)\n",
      "Result of the last epoch's batch:  tensor(3.4772, grad_fn=<SqrtBackward>)\n",
      " \n",
      "Epoch 60\n",
      "Batch:  1 , loss:  tensor(3.5793, grad_fn=<SqrtBackward>)\n",
      "Batch:  2 , loss:  tensor(2.7990, grad_fn=<SqrtBackward>)\n",
      "Batch:  3 , loss:  tensor(3.0721, grad_fn=<SqrtBackward>)\n",
      "Batch:  4 , loss:  tensor(2.8658, grad_fn=<SqrtBackward>)\n",
      "Batch:  5 , loss:  tensor(2.8271, grad_fn=<SqrtBackward>)\n",
      "Batch:  6 , loss:  tensor(3.0156, grad_fn=<SqrtBackward>)\n",
      "Batch:  7 , loss:  tensor(4.0929, grad_fn=<SqrtBackward>)\n",
      "Result of the last epoch's batch:  tensor(4.0929, grad_fn=<SqrtBackward>)\n",
      " \n",
      "Epoch 61\n",
      "Batch:  1 , loss:  tensor(3.0117, grad_fn=<SqrtBackward>)\n",
      "Batch:  2 , loss:  tensor(2.6605, grad_fn=<SqrtBackward>)\n",
      "Batch:  3 , loss:  tensor(2.9086, grad_fn=<SqrtBackward>)\n",
      "Batch:  4 , loss:  tensor(3.8334, grad_fn=<SqrtBackward>)\n",
      "Batch:  5 , loss:  tensor(3.0146, grad_fn=<SqrtBackward>)\n",
      "Batch:  6 , loss:  tensor(2.8666, grad_fn=<SqrtBackward>)\n",
      "Batch:  7 , loss:  tensor(3.7093, grad_fn=<SqrtBackward>)\n",
      "Result of the last epoch's batch:  tensor(3.7093, grad_fn=<SqrtBackward>)\n",
      " \n",
      "Epoch 62\n",
      "Batch:  1 , loss:  tensor(3.5404, grad_fn=<SqrtBackward>)\n",
      "Batch:  2 , loss:  tensor(3.0236, grad_fn=<SqrtBackward>)\n",
      "Batch:  3 , loss:  tensor(3.4010, grad_fn=<SqrtBackward>)\n",
      "Batch:  4 , loss:  tensor(3.5920, grad_fn=<SqrtBackward>)\n",
      "Batch:  5 , loss:  tensor(2.5706, grad_fn=<SqrtBackward>)\n",
      "Batch:  6 , loss:  tensor(2.9075, grad_fn=<SqrtBackward>)\n",
      "Batch:  7 , loss:  tensor(3.0840, grad_fn=<SqrtBackward>)\n",
      "Result of the last epoch's batch:  tensor(3.0840, grad_fn=<SqrtBackward>)\n",
      " \n",
      "Epoch 63\n",
      "Batch:  1 , loss:  tensor(3.3412, grad_fn=<SqrtBackward>)\n",
      "Batch:  2 , loss:  tensor(3.2012, grad_fn=<SqrtBackward>)\n",
      "Batch:  3 , loss:  tensor(3.2377, grad_fn=<SqrtBackward>)\n",
      "Batch:  4 , loss:  tensor(2.9863, grad_fn=<SqrtBackward>)\n",
      "Batch:  5 , loss:  tensor(3.2668, grad_fn=<SqrtBackward>)\n",
      "Batch:  6 , loss:  tensor(3.1349, grad_fn=<SqrtBackward>)\n",
      "Batch:  7 , loss:  tensor(3.0032, grad_fn=<SqrtBackward>)\n",
      "Result of the last epoch's batch:  tensor(3.0032, grad_fn=<SqrtBackward>)\n",
      " \n",
      "Epoch 64\n",
      "Batch:  1 , loss:  tensor(2.9165, grad_fn=<SqrtBackward>)\n",
      "Batch:  2 , loss:  tensor(2.9189, grad_fn=<SqrtBackward>)\n",
      "Batch:  3 , loss:  tensor(3.2428, grad_fn=<SqrtBackward>)\n",
      "Batch:  4 , loss:  tensor(2.8973, grad_fn=<SqrtBackward>)\n",
      "Batch:  5 , loss:  tensor(2.6195, grad_fn=<SqrtBackward>)\n",
      "Batch:  6 , loss:  tensor(3.0699, grad_fn=<SqrtBackward>)\n",
      "Batch:  7 , loss:  tensor(3.7509, grad_fn=<SqrtBackward>)\n",
      "Result of the last epoch's batch:  tensor(3.7509, grad_fn=<SqrtBackward>)\n",
      " \n",
      "Epoch 65\n",
      "Batch:  1 , loss:  tensor(2.4072, grad_fn=<SqrtBackward>)\n",
      "Batch:  2 , loss:  tensor(3.7572, grad_fn=<SqrtBackward>)\n",
      "Batch:  3 , loss:  tensor(2.9086, grad_fn=<SqrtBackward>)\n",
      "Batch:  4 , loss:  tensor(3.5428, grad_fn=<SqrtBackward>)\n",
      "Batch:  5 , loss:  tensor(2.4871, grad_fn=<SqrtBackward>)\n",
      "Batch:  6 , loss:  tensor(2.9103, grad_fn=<SqrtBackward>)\n",
      "Batch:  7 , loss:  tensor(3.2527, grad_fn=<SqrtBackward>)\n",
      "Result of the last epoch's batch:  tensor(3.2527, grad_fn=<SqrtBackward>)\n",
      " \n",
      "Epoch 66\n",
      "Batch:  1 , loss:  tensor(2.8442, grad_fn=<SqrtBackward>)\n",
      "Batch:  2 , loss:  tensor(2.5439, grad_fn=<SqrtBackward>)\n",
      "Batch:  3 , loss:  tensor(2.6451, grad_fn=<SqrtBackward>)\n",
      "Batch:  4 , loss:  tensor(3.6903, grad_fn=<SqrtBackward>)\n",
      "Batch:  5 , loss:  tensor(3.1917, grad_fn=<SqrtBackward>)\n",
      "Batch:  6 , loss:  tensor(3.6321, grad_fn=<SqrtBackward>)\n",
      "Batch:  7 , loss:  tensor(2.9612, grad_fn=<SqrtBackward>)\n",
      "Result of the last epoch's batch:  tensor(2.9612, grad_fn=<SqrtBackward>)\n",
      " \n",
      "Epoch 67\n",
      "Batch:  1 , loss:  tensor(3.2447, grad_fn=<SqrtBackward>)\n",
      "Batch:  2 , loss:  tensor(2.5213, grad_fn=<SqrtBackward>)\n",
      "Batch:  3 , loss:  tensor(2.7582, grad_fn=<SqrtBackward>)\n",
      "Batch:  4 , loss:  tensor(2.4024, grad_fn=<SqrtBackward>)\n",
      "Batch:  5 , loss:  tensor(3.6311, grad_fn=<SqrtBackward>)\n",
      "Batch:  6 , loss:  tensor(3.4168, grad_fn=<SqrtBackward>)\n",
      "Batch:  7 , loss:  tensor(3.3447, grad_fn=<SqrtBackward>)\n",
      "Result of the last epoch's batch:  tensor(3.3447, grad_fn=<SqrtBackward>)\n",
      " \n",
      "Epoch 68\n",
      "Batch:  1 , loss:  tensor(3.5911, grad_fn=<SqrtBackward>)\n",
      "Batch:  2 , loss:  tensor(2.8694, grad_fn=<SqrtBackward>)\n",
      "Batch:  3 , loss:  tensor(2.9805, grad_fn=<SqrtBackward>)\n",
      "Batch:  4 , loss:  tensor(2.9302, grad_fn=<SqrtBackward>)\n",
      "Batch:  5 , loss:  tensor(3.2901, grad_fn=<SqrtBackward>)\n",
      "Batch:  6 , loss:  tensor(2.8518, grad_fn=<SqrtBackward>)\n",
      "Batch:  7 , loss:  tensor(2.5450, grad_fn=<SqrtBackward>)\n",
      "Result of the last epoch's batch:  tensor(2.5450, grad_fn=<SqrtBackward>)\n",
      " \n",
      "Epoch 69\n"
     ]
    },
    {
     "name": "stdout",
     "output_type": "stream",
     "text": [
      "Batch:  1 , loss:  tensor(2.4988, grad_fn=<SqrtBackward>)\n",
      "Batch:  2 , loss:  tensor(2.8446, grad_fn=<SqrtBackward>)\n",
      "Batch:  3 , loss:  tensor(2.9002, grad_fn=<SqrtBackward>)\n",
      "Batch:  4 , loss:  tensor(3.8146, grad_fn=<SqrtBackward>)\n",
      "Batch:  5 , loss:  tensor(3.1029, grad_fn=<SqrtBackward>)\n",
      "Batch:  6 , loss:  tensor(3.2537, grad_fn=<SqrtBackward>)\n",
      "Batch:  7 , loss:  tensor(2.4212, grad_fn=<SqrtBackward>)\n",
      "Result of the last epoch's batch:  tensor(2.4212, grad_fn=<SqrtBackward>)\n",
      " \n",
      "Epoch 70\n",
      "Batch:  1 , loss:  tensor(3.3077, grad_fn=<SqrtBackward>)\n",
      "Batch:  2 , loss:  tensor(2.9667, grad_fn=<SqrtBackward>)\n",
      "Batch:  3 , loss:  tensor(2.6170, grad_fn=<SqrtBackward>)\n",
      "Batch:  4 , loss:  tensor(3.2371, grad_fn=<SqrtBackward>)\n",
      "Batch:  5 , loss:  tensor(3.1376, grad_fn=<SqrtBackward>)\n",
      "Batch:  6 , loss:  tensor(3.1297, grad_fn=<SqrtBackward>)\n",
      "Batch:  7 , loss:  tensor(2.5301, grad_fn=<SqrtBackward>)\n",
      "Result of the last epoch's batch:  tensor(2.5301, grad_fn=<SqrtBackward>)\n",
      " \n",
      "Epoch 71\n",
      "Batch:  1 , loss:  tensor(3.0613, grad_fn=<SqrtBackward>)\n",
      "Batch:  2 , loss:  tensor(3.3735, grad_fn=<SqrtBackward>)\n",
      "Batch:  3 , loss:  tensor(2.6446, grad_fn=<SqrtBackward>)\n",
      "Batch:  4 , loss:  tensor(2.7660, grad_fn=<SqrtBackward>)\n",
      "Batch:  5 , loss:  tensor(2.5920, grad_fn=<SqrtBackward>)\n",
      "Batch:  6 , loss:  tensor(2.9945, grad_fn=<SqrtBackward>)\n",
      "Batch:  7 , loss:  tensor(3.4927, grad_fn=<SqrtBackward>)\n",
      "Result of the last epoch's batch:  tensor(3.4927, grad_fn=<SqrtBackward>)\n",
      " \n",
      "Epoch 72\n",
      "Batch:  1 , loss:  tensor(3.4322, grad_fn=<SqrtBackward>)\n",
      "Batch:  2 , loss:  tensor(3.4686, grad_fn=<SqrtBackward>)\n",
      "Batch:  3 , loss:  tensor(2.5251, grad_fn=<SqrtBackward>)\n",
      "Batch:  4 , loss:  tensor(3.1453, grad_fn=<SqrtBackward>)\n",
      "Batch:  5 , loss:  tensor(2.6952, grad_fn=<SqrtBackward>)\n",
      "Batch:  6 , loss:  tensor(2.8713, grad_fn=<SqrtBackward>)\n",
      "Batch:  7 , loss:  tensor(2.6014, grad_fn=<SqrtBackward>)\n",
      "Result of the last epoch's batch:  tensor(2.6014, grad_fn=<SqrtBackward>)\n",
      " \n",
      "Epoch 73\n",
      "Batch:  1 , loss:  tensor(2.6518, grad_fn=<SqrtBackward>)\n",
      "Batch:  2 , loss:  tensor(2.8891, grad_fn=<SqrtBackward>)\n",
      "Batch:  3 , loss:  tensor(2.7661, grad_fn=<SqrtBackward>)\n",
      "Batch:  4 , loss:  tensor(3.6351, grad_fn=<SqrtBackward>)\n",
      "Batch:  5 , loss:  tensor(3.5572, grad_fn=<SqrtBackward>)\n",
      "Batch:  6 , loss:  tensor(2.8326, grad_fn=<SqrtBackward>)\n",
      "Batch:  7 , loss:  tensor(2.3675, grad_fn=<SqrtBackward>)\n",
      "Result of the last epoch's batch:  tensor(2.3675, grad_fn=<SqrtBackward>)\n",
      " \n",
      "Epoch 74\n",
      "Batch:  1 , loss:  tensor(3.1080, grad_fn=<SqrtBackward>)\n",
      "Batch:  2 , loss:  tensor(3.1902, grad_fn=<SqrtBackward>)\n",
      "Batch:  3 , loss:  tensor(2.5109, grad_fn=<SqrtBackward>)\n",
      "Batch:  4 , loss:  tensor(2.9343, grad_fn=<SqrtBackward>)\n",
      "Batch:  5 , loss:  tensor(2.8109, grad_fn=<SqrtBackward>)\n",
      "Batch:  6 , loss:  tensor(3.0132, grad_fn=<SqrtBackward>)\n",
      "Batch:  7 , loss:  tensor(3.1565, grad_fn=<SqrtBackward>)\n",
      "Result of the last epoch's batch:  tensor(3.1565, grad_fn=<SqrtBackward>)\n",
      " \n",
      "Epoch 75\n",
      "Batch:  1 , loss:  tensor(2.2837, grad_fn=<SqrtBackward>)\n",
      "Batch:  2 , loss:  tensor(2.6508, grad_fn=<SqrtBackward>)\n",
      "Batch:  3 , loss:  tensor(3.6528, grad_fn=<SqrtBackward>)\n",
      "Batch:  4 , loss:  tensor(3.2755, grad_fn=<SqrtBackward>)\n",
      "Batch:  5 , loss:  tensor(2.8816, grad_fn=<SqrtBackward>)\n",
      "Batch:  6 , loss:  tensor(3.0532, grad_fn=<SqrtBackward>)\n",
      "Batch:  7 , loss:  tensor(2.6950, grad_fn=<SqrtBackward>)\n",
      "Result of the last epoch's batch:  tensor(2.6950, grad_fn=<SqrtBackward>)\n",
      " \n",
      "Epoch 76\n",
      "Batch:  1 , loss:  tensor(2.9377, grad_fn=<SqrtBackward>)\n",
      "Batch:  2 , loss:  tensor(3.2640, grad_fn=<SqrtBackward>)\n",
      "Batch:  3 , loss:  tensor(4.1234, grad_fn=<SqrtBackward>)\n",
      "Batch:  4 , loss:  tensor(2.4576, grad_fn=<SqrtBackward>)\n",
      "Batch:  5 , loss:  tensor(2.1106, grad_fn=<SqrtBackward>)\n",
      "Batch:  6 , loss:  tensor(2.4633, grad_fn=<SqrtBackward>)\n",
      "Batch:  7 , loss:  tensor(2.7973, grad_fn=<SqrtBackward>)\n",
      "Result of the last epoch's batch:  tensor(2.7973, grad_fn=<SqrtBackward>)\n",
      " \n",
      "Epoch 77\n",
      "Batch:  1 , loss:  tensor(3.0610, grad_fn=<SqrtBackward>)\n",
      "Batch:  2 , loss:  tensor(2.7917, grad_fn=<SqrtBackward>)\n",
      "Batch:  3 , loss:  tensor(3.0954, grad_fn=<SqrtBackward>)\n",
      "Batch:  4 , loss:  tensor(2.5305, grad_fn=<SqrtBackward>)\n",
      "Batch:  5 , loss:  tensor(2.7491, grad_fn=<SqrtBackward>)\n",
      "Batch:  6 , loss:  tensor(3.1003, grad_fn=<SqrtBackward>)\n",
      "Batch:  7 , loss:  tensor(3.2179, grad_fn=<SqrtBackward>)\n",
      "Result of the last epoch's batch:  tensor(3.2179, grad_fn=<SqrtBackward>)\n",
      " \n",
      "Epoch 78\n",
      "Batch:  1 , loss:  tensor(2.1772, grad_fn=<SqrtBackward>)\n",
      "Batch:  2 , loss:  tensor(2.6669, grad_fn=<SqrtBackward>)\n",
      "Batch:  3 , loss:  tensor(2.4238, grad_fn=<SqrtBackward>)\n",
      "Batch:  4 , loss:  tensor(2.6818, grad_fn=<SqrtBackward>)\n",
      "Batch:  5 , loss:  tensor(3.0422, grad_fn=<SqrtBackward>)\n",
      "Batch:  6 , loss:  tensor(3.6249, grad_fn=<SqrtBackward>)\n",
      "Batch:  7 , loss:  tensor(3.6932, grad_fn=<SqrtBackward>)\n",
      "Result of the last epoch's batch:  tensor(3.6932, grad_fn=<SqrtBackward>)\n",
      " \n",
      "Epoch 79\n",
      "Batch:  1 , loss:  tensor(2.7418, grad_fn=<SqrtBackward>)\n",
      "Batch:  2 , loss:  tensor(3.2479, grad_fn=<SqrtBackward>)\n",
      "Batch:  3 , loss:  tensor(2.3998, grad_fn=<SqrtBackward>)\n",
      "Batch:  4 , loss:  tensor(3.5303, grad_fn=<SqrtBackward>)\n",
      "Batch:  5 , loss:  tensor(3.1094, grad_fn=<SqrtBackward>)\n",
      "Batch:  6 , loss:  tensor(2.2962, grad_fn=<SqrtBackward>)\n",
      "Batch:  7 , loss:  tensor(3.4353, grad_fn=<SqrtBackward>)\n",
      "Result of the last epoch's batch:  tensor(3.4353, grad_fn=<SqrtBackward>)\n",
      " \n",
      "Epoch 80\n",
      "Batch:  1 , loss:  tensor(3.3520, grad_fn=<SqrtBackward>)\n",
      "Batch:  2 , loss:  tensor(3.1333, grad_fn=<SqrtBackward>)\n",
      "Batch:  3 , loss:  tensor(2.5566, grad_fn=<SqrtBackward>)\n",
      "Batch:  4 , loss:  tensor(2.7434, grad_fn=<SqrtBackward>)\n",
      "Batch:  5 , loss:  tensor(2.9702, grad_fn=<SqrtBackward>)\n",
      "Batch:  6 , loss:  tensor(3.0307, grad_fn=<SqrtBackward>)\n",
      "Batch:  7 , loss:  tensor(2.7700, grad_fn=<SqrtBackward>)\n",
      "Result of the last epoch's batch:  tensor(2.7700, grad_fn=<SqrtBackward>)\n",
      " \n",
      "Epoch 81\n",
      "Batch:  1 , loss:  tensor(3.4002, grad_fn=<SqrtBackward>)\n",
      "Batch:  2 , loss:  tensor(2.8812, grad_fn=<SqrtBackward>)\n",
      "Batch:  3 , loss:  tensor(3.2173, grad_fn=<SqrtBackward>)\n",
      "Batch:  4 , loss:  tensor(2.5255, grad_fn=<SqrtBackward>)\n",
      "Batch:  5 , loss:  tensor(2.7001, grad_fn=<SqrtBackward>)\n",
      "Batch:  6 , loss:  tensor(2.5265, grad_fn=<SqrtBackward>)\n",
      "Batch:  7 , loss:  tensor(3.1110, grad_fn=<SqrtBackward>)\n",
      "Result of the last epoch's batch:  tensor(3.1110, grad_fn=<SqrtBackward>)\n",
      " \n",
      "Epoch 82\n",
      "Batch:  1 , loss:  tensor(2.9520, grad_fn=<SqrtBackward>)\n",
      "Batch:  2 , loss:  tensor(3.0703, grad_fn=<SqrtBackward>)\n",
      "Batch:  3 , loss:  tensor(2.6370, grad_fn=<SqrtBackward>)\n",
      "Batch:  4 , loss:  tensor(2.5415, grad_fn=<SqrtBackward>)\n",
      "Batch:  5 , loss:  tensor(3.5617, grad_fn=<SqrtBackward>)\n",
      "Batch:  6 , loss:  tensor(2.6959, grad_fn=<SqrtBackward>)\n",
      "Batch:  7 , loss:  tensor(2.7569, grad_fn=<SqrtBackward>)\n",
      "Result of the last epoch's batch:  tensor(2.7569, grad_fn=<SqrtBackward>)\n",
      " \n",
      "Epoch 83\n",
      "Batch:  1 , loss:  tensor(3.1123, grad_fn=<SqrtBackward>)\n",
      "Batch:  2 , loss:  tensor(2.9522, grad_fn=<SqrtBackward>)\n",
      "Batch:  3 , loss:  tensor(3.3826, grad_fn=<SqrtBackward>)\n",
      "Batch:  4 , loss:  tensor(3.6076, grad_fn=<SqrtBackward>)\n",
      "Batch:  5 , loss:  tensor(2.4187, grad_fn=<SqrtBackward>)\n",
      "Batch:  6 , loss:  tensor(2.4001, grad_fn=<SqrtBackward>)\n",
      "Batch:  7 , loss:  tensor(2.6528, grad_fn=<SqrtBackward>)\n",
      "Result of the last epoch's batch:  tensor(2.6528, grad_fn=<SqrtBackward>)\n",
      " \n",
      "Epoch 84\n",
      "Batch:  1 , loss:  tensor(2.8073, grad_fn=<SqrtBackward>)\n",
      "Batch:  2 , loss:  tensor(2.9453, grad_fn=<SqrtBackward>)\n",
      "Batch:  3 , loss:  tensor(3.7335, grad_fn=<SqrtBackward>)\n",
      "Batch:  4 , loss:  tensor(2.7898, grad_fn=<SqrtBackward>)\n",
      "Batch:  5 , loss:  tensor(2.1502, grad_fn=<SqrtBackward>)\n",
      "Batch:  6 , loss:  tensor(3.0988, grad_fn=<SqrtBackward>)\n",
      "Batch:  7 , loss:  tensor(2.5159, grad_fn=<SqrtBackward>)\n",
      "Result of the last epoch's batch:  tensor(2.5159, grad_fn=<SqrtBackward>)\n",
      " \n",
      "Epoch 85\n",
      "Batch:  1 , loss:  tensor(2.8950, grad_fn=<SqrtBackward>)\n",
      "Batch:  2 , loss:  tensor(2.4249, grad_fn=<SqrtBackward>)\n",
      "Batch:  3 , loss:  tensor(3.2269, grad_fn=<SqrtBackward>)\n",
      "Batch:  4 , loss:  tensor(3.0178, grad_fn=<SqrtBackward>)\n",
      "Batch:  5 , loss:  tensor(3.9276, grad_fn=<SqrtBackward>)\n",
      "Batch:  6 , loss:  tensor(2.4556, grad_fn=<SqrtBackward>)\n",
      "Batch:  7 , loss:  tensor(2.1946, grad_fn=<SqrtBackward>)\n",
      "Result of the last epoch's batch:  tensor(2.1946, grad_fn=<SqrtBackward>)\n",
      " \n",
      "Epoch 86\n"
     ]
    },
    {
     "name": "stdout",
     "output_type": "stream",
     "text": [
      "Batch:  1 , loss:  tensor(3.1515, grad_fn=<SqrtBackward>)\n",
      "Batch:  2 , loss:  tensor(3.3497, grad_fn=<SqrtBackward>)\n",
      "Batch:  3 , loss:  tensor(1.9591, grad_fn=<SqrtBackward>)\n",
      "Batch:  4 , loss:  tensor(2.5374, grad_fn=<SqrtBackward>)\n",
      "Batch:  5 , loss:  tensor(3.4668, grad_fn=<SqrtBackward>)\n",
      "Batch:  6 , loss:  tensor(3.3116, grad_fn=<SqrtBackward>)\n",
      "Batch:  7 , loss:  tensor(2.2590, grad_fn=<SqrtBackward>)\n",
      "Result of the last epoch's batch:  tensor(2.2590, grad_fn=<SqrtBackward>)\n",
      " \n",
      "Epoch 87\n",
      "Batch:  1 , loss:  tensor(3.7095, grad_fn=<SqrtBackward>)\n",
      "Batch:  2 , loss:  tensor(2.9425, grad_fn=<SqrtBackward>)\n",
      "Batch:  3 , loss:  tensor(2.7410, grad_fn=<SqrtBackward>)\n",
      "Batch:  4 , loss:  tensor(2.3002, grad_fn=<SqrtBackward>)\n",
      "Batch:  5 , loss:  tensor(2.6013, grad_fn=<SqrtBackward>)\n",
      "Batch:  6 , loss:  tensor(2.6965, grad_fn=<SqrtBackward>)\n",
      "Batch:  7 , loss:  tensor(3.0717, grad_fn=<SqrtBackward>)\n",
      "Result of the last epoch's batch:  tensor(3.0717, grad_fn=<SqrtBackward>)\n",
      " \n",
      "Epoch 88\n",
      "Batch:  1 , loss:  tensor(3.0560, grad_fn=<SqrtBackward>)\n",
      "Batch:  2 , loss:  tensor(3.0784, grad_fn=<SqrtBackward>)\n",
      "Batch:  3 , loss:  tensor(2.4564, grad_fn=<SqrtBackward>)\n",
      "Batch:  4 , loss:  tensor(2.4811, grad_fn=<SqrtBackward>)\n",
      "Batch:  5 , loss:  tensor(3.5368, grad_fn=<SqrtBackward>)\n",
      "Batch:  6 , loss:  tensor(2.9152, grad_fn=<SqrtBackward>)\n",
      "Batch:  7 , loss:  tensor(2.5162, grad_fn=<SqrtBackward>)\n",
      "Result of the last epoch's batch:  tensor(2.5162, grad_fn=<SqrtBackward>)\n",
      " \n",
      "Epoch 89\n",
      "Batch:  1 , loss:  tensor(2.4937, grad_fn=<SqrtBackward>)\n",
      "Batch:  2 , loss:  tensor(3.4004, grad_fn=<SqrtBackward>)\n",
      "Batch:  3 , loss:  tensor(3.0351, grad_fn=<SqrtBackward>)\n",
      "Batch:  4 , loss:  tensor(2.2059, grad_fn=<SqrtBackward>)\n",
      "Batch:  5 , loss:  tensor(2.8486, grad_fn=<SqrtBackward>)\n",
      "Batch:  6 , loss:  tensor(3.3658, grad_fn=<SqrtBackward>)\n",
      "Batch:  7 , loss:  tensor(2.6795, grad_fn=<SqrtBackward>)\n",
      "Result of the last epoch's batch:  tensor(2.6795, grad_fn=<SqrtBackward>)\n",
      " \n",
      "Epoch 90\n",
      "Batch:  1 , loss:  tensor(2.9538, grad_fn=<SqrtBackward>)\n",
      "Batch:  2 , loss:  tensor(2.7207, grad_fn=<SqrtBackward>)\n",
      "Batch:  3 , loss:  tensor(2.4905, grad_fn=<SqrtBackward>)\n",
      "Batch:  4 , loss:  tensor(3.3678, grad_fn=<SqrtBackward>)\n",
      "Batch:  5 , loss:  tensor(3.3853, grad_fn=<SqrtBackward>)\n",
      "Batch:  6 , loss:  tensor(3.0528, grad_fn=<SqrtBackward>)\n",
      "Batch:  7 , loss:  tensor(2.0992, grad_fn=<SqrtBackward>)\n",
      "Result of the last epoch's batch:  tensor(2.0992, grad_fn=<SqrtBackward>)\n",
      " \n",
      "Epoch 91\n",
      "Batch:  1 , loss:  tensor(3.0411, grad_fn=<SqrtBackward>)\n",
      "Batch:  2 , loss:  tensor(2.1511, grad_fn=<SqrtBackward>)\n",
      "Batch:  3 , loss:  tensor(3.2341, grad_fn=<SqrtBackward>)\n",
      "Batch:  4 , loss:  tensor(3.2567, grad_fn=<SqrtBackward>)\n",
      "Batch:  5 , loss:  tensor(2.4679, grad_fn=<SqrtBackward>)\n",
      "Batch:  6 , loss:  tensor(3.1611, grad_fn=<SqrtBackward>)\n",
      "Batch:  7 , loss:  tensor(3.2262, grad_fn=<SqrtBackward>)\n",
      "Result of the last epoch's batch:  tensor(3.2262, grad_fn=<SqrtBackward>)\n",
      " \n",
      "Epoch 92\n",
      "Batch:  1 , loss:  tensor(2.7505, grad_fn=<SqrtBackward>)\n",
      "Batch:  2 , loss:  tensor(2.3218, grad_fn=<SqrtBackward>)\n",
      "Batch:  3 , loss:  tensor(2.5647, grad_fn=<SqrtBackward>)\n",
      "Batch:  4 , loss:  tensor(3.5485, grad_fn=<SqrtBackward>)\n",
      "Batch:  5 , loss:  tensor(2.3377, grad_fn=<SqrtBackward>)\n",
      "Batch:  6 , loss:  tensor(3.0710, grad_fn=<SqrtBackward>)\n",
      "Batch:  7 , loss:  tensor(3.4943, grad_fn=<SqrtBackward>)\n",
      "Result of the last epoch's batch:  tensor(3.4943, grad_fn=<SqrtBackward>)\n",
      " \n",
      "Epoch 93\n",
      "Batch:  1 , loss:  tensor(3.4906, grad_fn=<SqrtBackward>)\n",
      "Batch:  2 , loss:  tensor(3.2530, grad_fn=<SqrtBackward>)\n",
      "Batch:  3 , loss:  tensor(2.5525, grad_fn=<SqrtBackward>)\n",
      "Batch:  4 , loss:  tensor(3.0620, grad_fn=<SqrtBackward>)\n",
      "Batch:  5 , loss:  tensor(2.5275, grad_fn=<SqrtBackward>)\n",
      "Batch:  6 , loss:  tensor(2.7710, grad_fn=<SqrtBackward>)\n",
      "Batch:  7 , loss:  tensor(2.2309, grad_fn=<SqrtBackward>)\n",
      "Result of the last epoch's batch:  tensor(2.2309, grad_fn=<SqrtBackward>)\n",
      " \n",
      "Epoch 94\n",
      "Batch:  1 , loss:  tensor(2.5368, grad_fn=<SqrtBackward>)\n",
      "Batch:  2 , loss:  tensor(3.1600, grad_fn=<SqrtBackward>)\n",
      "Batch:  3 , loss:  tensor(2.4732, grad_fn=<SqrtBackward>)\n",
      "Batch:  4 , loss:  tensor(3.3588, grad_fn=<SqrtBackward>)\n",
      "Batch:  5 , loss:  tensor(2.9211, grad_fn=<SqrtBackward>)\n",
      "Batch:  6 , loss:  tensor(3.2704, grad_fn=<SqrtBackward>)\n",
      "Batch:  7 , loss:  tensor(2.5054, grad_fn=<SqrtBackward>)\n",
      "Result of the last epoch's batch:  tensor(2.5054, grad_fn=<SqrtBackward>)\n",
      " \n",
      "Epoch 95\n",
      "Batch:  1 , loss:  tensor(2.4128, grad_fn=<SqrtBackward>)\n",
      "Batch:  2 , loss:  tensor(2.6158, grad_fn=<SqrtBackward>)\n",
      "Batch:  3 , loss:  tensor(2.9761, grad_fn=<SqrtBackward>)\n",
      "Batch:  4 , loss:  tensor(2.8611, grad_fn=<SqrtBackward>)\n",
      "Batch:  5 , loss:  tensor(3.6030, grad_fn=<SqrtBackward>)\n",
      "Batch:  6 , loss:  tensor(3.1513, grad_fn=<SqrtBackward>)\n",
      "Batch:  7 , loss:  tensor(2.4976, grad_fn=<SqrtBackward>)\n",
      "Result of the last epoch's batch:  tensor(2.4976, grad_fn=<SqrtBackward>)\n",
      " \n",
      "Epoch 96\n",
      "Batch:  1 , loss:  tensor(2.4279, grad_fn=<SqrtBackward>)\n",
      "Batch:  2 , loss:  tensor(1.9716, grad_fn=<SqrtBackward>)\n",
      "Batch:  3 , loss:  tensor(3.0254, grad_fn=<SqrtBackward>)\n",
      "Batch:  4 , loss:  tensor(2.3222, grad_fn=<SqrtBackward>)\n",
      "Batch:  5 , loss:  tensor(3.9005, grad_fn=<SqrtBackward>)\n",
      "Batch:  6 , loss:  tensor(2.9440, grad_fn=<SqrtBackward>)\n",
      "Batch:  7 , loss:  tensor(3.2999, grad_fn=<SqrtBackward>)\n",
      "Result of the last epoch's batch:  tensor(3.2999, grad_fn=<SqrtBackward>)\n",
      " \n",
      "Epoch 97\n",
      "Batch:  1 , loss:  tensor(3.2879, grad_fn=<SqrtBackward>)\n",
      "Batch:  2 , loss:  tensor(2.8053, grad_fn=<SqrtBackward>)\n",
      "Batch:  3 , loss:  tensor(3.0404, grad_fn=<SqrtBackward>)\n",
      "Batch:  4 , loss:  tensor(3.2532, grad_fn=<SqrtBackward>)\n",
      "Batch:  5 , loss:  tensor(2.5461, grad_fn=<SqrtBackward>)\n",
      "Batch:  6 , loss:  tensor(3.0196, grad_fn=<SqrtBackward>)\n",
      "Batch:  7 , loss:  tensor(2.1371, grad_fn=<SqrtBackward>)\n",
      "Result of the last epoch's batch:  tensor(2.1371, grad_fn=<SqrtBackward>)\n",
      " \n",
      "Epoch 98\n",
      "Batch:  1 , loss:  tensor(2.5114, grad_fn=<SqrtBackward>)\n",
      "Batch:  2 , loss:  tensor(3.6600, grad_fn=<SqrtBackward>)\n",
      "Batch:  3 , loss:  tensor(2.0519, grad_fn=<SqrtBackward>)\n",
      "Batch:  4 , loss:  tensor(3.3912, grad_fn=<SqrtBackward>)\n",
      "Batch:  5 , loss:  tensor(2.4286, grad_fn=<SqrtBackward>)\n",
      "Batch:  6 , loss:  tensor(2.5669, grad_fn=<SqrtBackward>)\n",
      "Batch:  7 , loss:  tensor(3.4162, grad_fn=<SqrtBackward>)\n",
      "Result of the last epoch's batch:  tensor(3.4162, grad_fn=<SqrtBackward>)\n",
      " \n",
      "Epoch 99\n",
      "Batch:  1 , loss:  tensor(2.7888, grad_fn=<SqrtBackward>)\n",
      "Batch:  2 , loss:  tensor(3.3466, grad_fn=<SqrtBackward>)\n",
      "Batch:  3 , loss:  tensor(2.9428, grad_fn=<SqrtBackward>)\n",
      "Batch:  4 , loss:  tensor(2.6065, grad_fn=<SqrtBackward>)\n",
      "Batch:  5 , loss:  tensor(2.8988, grad_fn=<SqrtBackward>)\n",
      "Batch:  6 , loss:  tensor(3.1834, grad_fn=<SqrtBackward>)\n",
      "Batch:  7 , loss:  tensor(2.6295, grad_fn=<SqrtBackward>)\n",
      "Result of the last epoch's batch:  tensor(2.6295, grad_fn=<SqrtBackward>)\n",
      " \n",
      "Epoch 100\n",
      "Batch:  1 , loss:  tensor(3.4249, grad_fn=<SqrtBackward>)\n",
      "Batch:  2 , loss:  tensor(2.3280, grad_fn=<SqrtBackward>)\n",
      "Batch:  3 , loss:  tensor(2.3966, grad_fn=<SqrtBackward>)\n",
      "Batch:  4 , loss:  tensor(2.2933, grad_fn=<SqrtBackward>)\n",
      "Batch:  5 , loss:  tensor(3.1469, grad_fn=<SqrtBackward>)\n",
      "Batch:  6 , loss:  tensor(2.8221, grad_fn=<SqrtBackward>)\n",
      "Batch:  7 , loss:  tensor(3.5949, grad_fn=<SqrtBackward>)\n",
      "Result of the last epoch's batch:  tensor(3.5949, grad_fn=<SqrtBackward>)\n",
      " \n"
     ]
    }
   ],
   "source": [
    "loss_lst = []\n",
    "for epoch in range(1, 101):\n",
    "    batch = 1\n",
    "    print(\"Epoch\", epoch)\n",
    "    for step, (batch_x, batch_y) in enumerate(loader): \n",
    "        var_X, var_y = Variable(batch_x), Variable(batch_y)\n",
    "        prediction = model(var_X)\n",
    "        rmse_loss = torch.sqrt(loss_function(prediction, var_y))\n",
    "\n",
    "        optimizer.zero_grad()\n",
    "        rmse_loss.backward()\n",
    "        optimizer.step()\n",
    "        \n",
    "        loss_lst.append(float(rmse_loss))\n",
    "        print(\"Batch: \", batch, \", loss: \", rmse_loss)\n",
    "        batch += 1\n",
    "    print(\"Result of the last epoch's batch: \", rmse_loss)\n",
    "    print(' ')"
   ]
  },
  {
   "cell_type": "markdown",
   "metadata": {},
   "source": [
    "## Plot the loss per epoch in training"
   ]
  },
  {
   "cell_type": "code",
   "execution_count": 32,
   "metadata": {},
   "outputs": [
    {
     "data": {
      "image/png": "[encoded data removed]",
      "text/plain": [
       "<Figure size 1296x216 with 1 Axes>"
      ]
     },
     "metadata": {
      "needs_background": "light"
     },
     "output_type": "display_data"
    }
   ],
   "source": [
    "plt.figure(figsize=(18,3)) \n",
    "plt.plot(loss_lst, c='red')\n",
    "plt.show()"
   ]
  },
  {
   "cell_type": "markdown",
   "metadata": {},
   "source": [
    "## Test our Artificial Neural Network"
   ]
  },
  {
   "cell_type": "markdown",
   "metadata": {},
   "source": [
    "**Convert Numpy arrays to Pytorch tensors for testing set.**"
   ]
  },
  {
   "cell_type": "code",
   "execution_count": 33,
   "metadata": {},
   "outputs": [
    {
     "name": "stdout",
     "output_type": "stream",
     "text": [
      "torch.Size([79, 7]) torch.Size([79])\n",
      "torch.Size([79, 7]) torch.Size([79, 1])\n"
     ]
    }
   ],
   "source": [
    "# this is for the test set.\n",
    "tensor_X_test = torch.from_numpy(test_X).float() \n",
    "tensor_y_test = torch.from_numpy(test_y).float() \n",
    "print(tensor_X_test.shape, tensor_y_test.shape)\n",
    "\n",
    "tensor_y_test = tensor_y_test.unsqueeze(1)\n",
    "print(tensor_X_test.shape, tensor_y_test.shape)"
   ]
  },
  {
   "cell_type": "code",
   "execution_count": 34,
   "metadata": {},
   "outputs": [],
   "source": [
    "var_X_test = Variable(tensor_X_test)\n",
    "var_y_test = Variable(tensor_y_test)"
   ]
  },
  {
   "cell_type": "markdown",
   "metadata": {},
   "source": [
    "**Do predictions of the testing set and calculate the RMSE.**"
   ]
  },
  {
   "cell_type": "code",
   "execution_count": 35,
   "metadata": {},
   "outputs": [],
   "source": [
    "predictions_test = model(var_X_test)"
   ]
  },
  {
   "cell_type": "code",
   "execution_count": 36,
   "metadata": {},
   "outputs": [],
   "source": [
    "rmse_loss = torch.sqrt(loss_function(predictions_test, var_y_test))"
   ]
  },
  {
   "cell_type": "code",
   "execution_count": 37,
   "metadata": {
    "scrolled": true
   },
   "outputs": [
    {
     "data": {
      "text/plain": [
       "tensor(2.8001, grad_fn=<SqrtBackward>)"
      ]
     },
     "execution_count": 37,
     "metadata": {},
     "output_type": "execute_result"
    }
   ],
   "source": [
    "rmse_loss"
   ]
  },
  {
   "cell_type": "markdown",
   "metadata": {},
   "source": [
    "**The Root Mean Square Error of the testing set is 2.8, and since it is similar to the RMSE of the training set, we can conclude that there is not overfitting, perfect! An RMSE of 2.8 means that on average our model will do a prediction with a ± 2.8 error of miles per gallon. This is considered a satisfying result because 2.8 represents 12% out of the MPG average of our complete dataset and because 2.8 is lower than the MPG standard deviation of our whole dataset.**"
   ]
  },
  {
   "cell_type": "markdown",
   "metadata": {},
   "source": [
    "## Plot the predictions against target values"
   ]
  },
  {
   "cell_type": "code",
   "execution_count": 38,
   "metadata": {},
   "outputs": [],
   "source": [
    "y_pred = predictions_test.tolist()"
   ]
  },
  {
   "cell_type": "code",
   "execution_count": 39,
   "metadata": {},
   "outputs": [],
   "source": [
    "y_real = var_y_test.tolist()"
   ]
  },
  {
   "cell_type": "code",
   "execution_count": 40,
   "metadata": {},
   "outputs": [
    {
     "data": {
      "image/png": "[encoded data removed]",
      "text/plain": [
       "<Figure size 1296x216 with 1 Axes>"
      ]
     },
     "metadata": {
      "needs_background": "light"
     },
     "output_type": "display_data"
    }
   ],
   "source": [
    "plt.figure(figsize=(18,3)) \n",
    "plt.plot(y_pred, c='blue', label=\"predictions\")\n",
    "plt.plot(y_real, c='red', label=\"target\")\n",
    "plt.legend(loc=\"upper right\")\n",
    "plt.show()"
   ]
  },
  {
   "cell_type": "markdown",
   "metadata": {},
   "source": [
    "## Predict JUST one data with our model"
   ]
  },
  {
   "cell_type": "code",
   "execution_count": 41,
   "metadata": {},
   "outputs": [
    {
     "data": {
      "text/plain": [
       "tensor([0.2000, 0.0568, 0.1576, 0.1452, 0.3869, 0.3333, 0.0000])"
      ]
     },
     "execution_count": 41,
     "metadata": {},
     "output_type": "execute_result"
    }
   ],
   "source": [
    "data_x = var_X_test[0]\n",
    "data_x"
   ]
  },
  {
   "cell_type": "code",
   "execution_count": 42,
   "metadata": {},
   "outputs": [],
   "source": [
    "prediction = model(data_x)"
   ]
  },
  {
   "cell_type": "code",
   "execution_count": 43,
   "metadata": {},
   "outputs": [
    {
     "name": "stdout",
     "output_type": "stream",
     "text": [
      "Target value:  tensor([28.])\n",
      "Prediction:  tensor([26.6704], grad_fn=<AddBackward0>)\n"
     ]
    }
   ],
   "source": [
    "print(\"Target value: \", var_y_test[0])\n",
    "print(\"Prediction: \", prediction)"
   ]
  },
  {
   "cell_type": "markdown",
   "metadata": {},
   "source": [
    "**When predicting only one data, the first one of the testing set, it can be seen that the target or real value is 28 MPG and that the prediction is 26.7. The prediction is really close and has an absolute error of 1.3 MPG or a percentage error of 4.6%.**"
   ]
  },
  {
   "cell_type": "code",
   "execution_count": null,
   "metadata": {},
   "outputs": [],
   "source": []
  }
 ],
 "metadata": {
  "kernelspec": {
   "display_name": "auto_mlp",
   "language": "python",
   "name": "auto_mlp"
  },
  "language_info": {
   "codemirror_mode": {
    "name": "ipython",
    "version": 3
   },
   "file_extension": ".py",
   "mimetype": "text/x-python",
   "name": "python",
   "nbconvert_exporter": "python",
   "pygments_lexer": "ipython3",
   "version": "3.7.9"
  },
  "toc": {
   "base_numbering": 1,
   "nav_menu": {},
   "number_sections": true,
   "sideBar": true,
   "skip_h1_title": false,
   "title_cell": "Table of Contents",
   "title_sidebar": "Contents",
   "toc_cell": false,
   "toc_position": {
    "height": "calc(100% - 180px)",
    "left": "10px",
    "top": "150px",
    "width": "253px"
   },
   "toc_section_display": true,
   "toc_window_display": true
  }
 },
 "nbformat": 4,
 "nbformat_minor": 2
}
